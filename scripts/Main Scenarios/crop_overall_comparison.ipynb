{
 "cells": [
  {
   "cell_type": "code",
   "execution_count": 1,
   "metadata": {},
   "outputs": [
    {
     "name": "stdout",
     "output_type": "stream",
     "text": [
      "/home/florian/Documents/GitHub/pytradeshifts\n"
     ]
    }
   ],
   "source": [
    "from src.model import PyTradeShifts\n",
    "from src.postprocessing import Postprocessing\n",
    "import pandas as pd\n",
    "from matplotlib import pyplot as plt\n",
    "import seaborn as sns\n",
    "import os\n",
    "os.chdir('../../')\n",
    "print(os.getcwd())"
   ]
  },
  {
   "cell_type": "code",
   "execution_count": 2,
   "metadata": {},
   "outputs": [
    {
     "name": "stdout",
     "output_type": "stream",
     "text": [
      "Loaded data for Wheat in Y2022.\n",
      "Removed 1 countries with no trade or production.\n",
      "Removed countries: ['South Sudan']\n",
      "Prebalanced trade matrix.\n",
      "Corrected re-exports.\n",
      "Removed countries with trade below the 75th percentile.\n",
      "Built trade graph.\n",
      "Found 6 trade communities.\n",
      "Loaded data for Wheat in Y2022.\n",
      "Removed 1 countries with no trade or production.\n",
      "Removed countries: ['South Sudan']\n",
      "Prebalanced trade matrix.\n",
      "Corrected re-exports.\n",
      "Removed countries with trade below the 75th percentile.\n",
      "Applied scenario GCIL.\n",
      "Built trade graph.\n",
      "Found 6 trade communities.\n",
      "Loaded data for Wheat in Y2022.\n",
      "Removed 1 countries with no trade or production.\n",
      "Removed countries: ['South Sudan']\n",
      "Prebalanced trade matrix.\n",
      "Corrected re-exports.\n",
      "Removed countries with trade below the 75th percentile.\n",
      "Applied scenario ASRS.\n",
      "Built trade graph.\n",
      "Found 7 trade communities.\n",
      "Loaded data for Wheat in Y2022.\n",
      "Removed 1 countries with no trade or production.\n",
      "Removed countries: ['South Sudan']\n",
      "Prebalanced trade matrix.\n",
      "Corrected re-exports.\n",
      "Removed countries with trade below the 75th percentile.\n",
      "Applied scenario ASRS + GCIL.\n",
      "Built trade graph.\n",
      "Found 6 trade communities.\n",
      "Warning: trade matrix has duplicate indices, which will be removed.\n",
      "The duplicates are the following: \n",
      "Index(['Micronesia, Fed. Sts.', 'Micronesia, Fed. Sts.'], dtype='object')\n",
      "Warning: trade matrix has duplicate indices, which will be removed.\n",
      "The duplicates are the following: \n",
      "Index(['Micronesia, Fed. Sts.', 'Micronesia, Fed. Sts.'], dtype='object')\n",
      "Loaded data for Rice in Y2022.\n",
      "Removed 0 countries with no trade or production.\n",
      "No countries removed.\n",
      "Prebalanced trade matrix.\n",
      "Corrected re-exports.\n",
      "Removed countries with trade below the 75th percentile.\n",
      "Built trade graph.\n",
      "Found 6 trade communities.\n",
      "Warning: trade matrix has duplicate indices, which will be removed.\n",
      "The duplicates are the following: \n",
      "Index(['Micronesia, Fed. Sts.', 'Micronesia, Fed. Sts.'], dtype='object')\n",
      "Warning: trade matrix has duplicate indices, which will be removed.\n",
      "The duplicates are the following: \n",
      "Index(['Micronesia, Fed. Sts.', 'Micronesia, Fed. Sts.'], dtype='object')\n",
      "Loaded data for Rice in Y2022.\n",
      "Removed 0 countries with no trade or production.\n",
      "No countries removed.\n",
      "Prebalanced trade matrix.\n",
      "Corrected re-exports.\n",
      "Removed countries with trade below the 75th percentile.\n",
      "Applied scenario GCIL.\n",
      "Built trade graph.\n",
      "Found 6 trade communities.\n",
      "Warning: trade matrix has duplicate indices, which will be removed.\n",
      "The duplicates are the following: \n",
      "Index(['Micronesia, Fed. Sts.', 'Micronesia, Fed. Sts.'], dtype='object')\n",
      "Warning: trade matrix has duplicate indices, which will be removed.\n",
      "The duplicates are the following: \n",
      "Index(['Micronesia, Fed. Sts.', 'Micronesia, Fed. Sts.'], dtype='object')\n",
      "Loaded data for Rice in Y2022.\n",
      "Removed 0 countries with no trade or production.\n",
      "No countries removed.\n",
      "Prebalanced trade matrix.\n",
      "Corrected re-exports.\n",
      "Removed countries with trade below the 75th percentile.\n",
      "Applied scenario ASRS.\n",
      "Built trade graph.\n",
      "Found 5 trade communities.\n",
      "Warning: trade matrix has duplicate indices, which will be removed.\n",
      "The duplicates are the following: \n",
      "Index(['Micronesia, Fed. Sts.', 'Micronesia, Fed. Sts.'], dtype='object')\n",
      "Warning: trade matrix has duplicate indices, which will be removed.\n",
      "The duplicates are the following: \n",
      "Index(['Micronesia, Fed. Sts.', 'Micronesia, Fed. Sts.'], dtype='object')\n",
      "Loaded data for Rice in Y2022.\n",
      "Removed 0 countries with no trade or production.\n",
      "No countries removed.\n",
      "Prebalanced trade matrix.\n",
      "Corrected re-exports.\n",
      "Removed countries with trade below the 75th percentile.\n",
      "Applied scenario ASRS + GCIL.\n",
      "Built trade graph.\n",
      "Found 5 trade communities.\n",
      "Loaded data for Soya beans in Y2022.\n",
      "Removed 0 countries with no trade or production.\n",
      "No countries removed.\n",
      "Prebalanced trade matrix.\n",
      "Corrected re-exports.\n",
      "Removed countries with trade below the 75th percentile.\n",
      "Built trade graph.\n",
      "Found 4 trade communities.\n",
      "Loaded data for Soya beans in Y2022.\n",
      "Removed 0 countries with no trade or production.\n",
      "No countries removed.\n",
      "Prebalanced trade matrix.\n",
      "Corrected re-exports.\n",
      "Removed countries with trade below the 75th percentile.\n",
      "Applied scenario GCIL.\n",
      "Built trade graph.\n",
      "Found 4 trade communities.\n",
      "Loaded data for Soya beans in Y2022.\n",
      "Removed 0 countries with no trade or production.\n",
      "No countries removed.\n",
      "Prebalanced trade matrix.\n",
      "Corrected re-exports.\n",
      "Removed countries with trade below the 75th percentile.\n",
      "Applied scenario ASRS.\n",
      "Built trade graph.\n",
      "Found 4 trade communities.\n",
      "Loaded data for Soya beans in Y2022.\n",
      "Removed 0 countries with no trade or production.\n",
      "No countries removed.\n",
      "Prebalanced trade matrix.\n",
      "Corrected re-exports.\n",
      "Removed countries with trade below the 75th percentile.\n",
      "Applied scenario ASRS + GCIL.\n",
      "Built trade graph.\n",
      "Found 4 trade communities.\n",
      "Warning: trade matrix has duplicate indices, which will be removed.\n",
      "The duplicates are the following: \n",
      "Index(['Micronesia, Fed. Sts.', 'Micronesia, Fed. Sts.'], dtype='object')\n",
      "Warning: trade matrix has duplicate indices, which will be removed.\n",
      "The duplicates are the following: \n",
      "Index(['Micronesia, Fed. Sts.', 'Micronesia, Fed. Sts.'], dtype='object')\n",
      "Loaded data for Maize in Y2022.\n",
      "Removed 0 countries with no trade or production.\n",
      "No countries removed.\n",
      "Prebalanced trade matrix.\n",
      "Determinant=0 encountered in PyTradeShifts.correct_reexports().\n",
      "Re-applying PyTradeShifts.remove_net_zero_countries().\n",
      "Removed 1 countries with no trade or production.\n",
      "Removed countries: ['Tonga']\n",
      "Attempting to invert the matrix again.\n",
      "Corrected re-exports.\n",
      "Removed countries with trade below the 75th percentile.\n",
      "Built trade graph.\n",
      "Found 7 trade communities.\n",
      "Warning: trade matrix has duplicate indices, which will be removed.\n",
      "The duplicates are the following: \n",
      "Index(['Micronesia, Fed. Sts.', 'Micronesia, Fed. Sts.'], dtype='object')\n",
      "Warning: trade matrix has duplicate indices, which will be removed.\n",
      "The duplicates are the following: \n",
      "Index(['Micronesia, Fed. Sts.', 'Micronesia, Fed. Sts.'], dtype='object')\n",
      "Loaded data for Maize in Y2022.\n",
      "Removed 0 countries with no trade or production.\n",
      "No countries removed.\n",
      "Prebalanced trade matrix.\n",
      "Determinant=0 encountered in PyTradeShifts.correct_reexports().\n",
      "Re-applying PyTradeShifts.remove_net_zero_countries().\n",
      "Removed 1 countries with no trade or production.\n",
      "Removed countries: ['Tonga']\n",
      "Attempting to invert the matrix again.\n",
      "Corrected re-exports.\n",
      "Removed countries with trade below the 75th percentile.\n",
      "Applied scenario GCIL.\n",
      "Built trade graph.\n",
      "Found 6 trade communities.\n",
      "Warning: trade matrix has duplicate indices, which will be removed.\n",
      "The duplicates are the following: \n",
      "Index(['Micronesia, Fed. Sts.', 'Micronesia, Fed. Sts.'], dtype='object')\n",
      "Warning: trade matrix has duplicate indices, which will be removed.\n",
      "The duplicates are the following: \n",
      "Index(['Micronesia, Fed. Sts.', 'Micronesia, Fed. Sts.'], dtype='object')\n",
      "Loaded data for Maize in Y2022.\n",
      "Removed 0 countries with no trade or production.\n",
      "No countries removed.\n",
      "Prebalanced trade matrix.\n",
      "Determinant=0 encountered in PyTradeShifts.correct_reexports().\n",
      "Re-applying PyTradeShifts.remove_net_zero_countries().\n",
      "Removed 1 countries with no trade or production.\n",
      "Removed countries: ['Tonga']\n",
      "Attempting to invert the matrix again.\n",
      "Corrected re-exports.\n",
      "Removed countries with trade below the 75th percentile.\n",
      "Applied scenario ASRS.\n",
      "Built trade graph.\n",
      "Found 10 trade communities.\n",
      "Removed community {'Moldova'} with only one country.\n",
      "Removed community {'Slovenia'} with only one country.\n",
      "Warning: trade matrix has duplicate indices, which will be removed.\n",
      "The duplicates are the following: \n",
      "Index(['Micronesia, Fed. Sts.', 'Micronesia, Fed. Sts.'], dtype='object')\n",
      "Warning: trade matrix has duplicate indices, which will be removed.\n",
      "The duplicates are the following: \n",
      "Index(['Micronesia, Fed. Sts.', 'Micronesia, Fed. Sts.'], dtype='object')\n",
      "Loaded data for Maize in Y2022.\n",
      "Removed 0 countries with no trade or production.\n",
      "No countries removed.\n",
      "Prebalanced trade matrix.\n",
      "Determinant=0 encountered in PyTradeShifts.correct_reexports().\n",
      "Re-applying PyTradeShifts.remove_net_zero_countries().\n",
      "Removed 1 countries with no trade or production.\n",
      "Removed countries: ['Tonga']\n",
      "Attempting to invert the matrix again.\n",
      "Corrected re-exports.\n",
      "Removed countries with trade below the 75th percentile.\n",
      "Applied scenario ASRS + GCIL.\n",
      "Built trade graph.\n",
      "Found 11 trade communities.\n",
      "Removed community {'Moldova'} with only one country.\n"
     ]
    }
   ],
   "source": [
    "base_year = 2022\n",
    "catastrophes = [\"GCIL\", \"ASRS\", \"ASRS + GCIL\"]\n",
    "crops = [\"Wheat\", \"Rice\", \"Soya beans\", \"Maize\"]\n",
    "\n",
    "crop_scenarios = {}\n",
    "for crop in crops:\n",
    "    scenarios = []\n",
    "    base = PyTradeShifts(\n",
    "        crop=crop,\n",
    "        base_year=base_year,\n",
    "        region=\"Global\",\n",
    "        testing=False,\n",
    "        cd_kwargs={\"seed\": 2},\n",
    "        make_plot=False,\n",
    "    )\n",
    "    scenarios.append(base)\n",
    "\n",
    "    for catastrophe in catastrophes:\n",
    "        if catastrophe == \"ASRS\":\n",
    "            if crop == \"Wheat\":\n",
    "                xia_naming = \"swheat\"\n",
    "            elif crop == \"Rice\":\n",
    "                xia_naming = \"rice\"\n",
    "            elif crop == \"Soya beans\":\n",
    "                xia_naming = \"soy\"\n",
    "            elif crop == \"Maize\":\n",
    "                xia_naming = \"corn\"\n",
    "\n",
    "            crop_catastrophe = PyTradeShifts(\n",
    "                crop=crop,\n",
    "                base_year=base_year,\n",
    "                region=\"Global\",\n",
    "                testing=False,\n",
    "                cd_kwargs={\"seed\": 2},\n",
    "                make_plot=False,\n",
    "                scenario_file_name=f\"nuclear_winter/xia_37tg_y3_{xia_naming}.csv\",\n",
    "                scenario_name=catastrophe,\n",
    "            )\n",
    "        elif catastrophe == \"GCIL\":\n",
    "            if crop == \"Soya beans\":\n",
    "                crop_name = \"Soybean\"\n",
    "            elif crop == \"Maize\":\n",
    "                crop_name = \"Corn\"\n",
    "            else:\n",
    "                crop_name = crop\n",
    "            crop_catastrophe = PyTradeShifts(\n",
    "                crop=crop,\n",
    "                base_year=base_year,\n",
    "                region=\"Global\",\n",
    "                testing=False,\n",
    "                cd_kwargs={\"seed\": 2},\n",
    "                make_plot=False,\n",
    "                scenario_file_name=\"losing_industry/\"+crop_name+\"2mean_values.csv\",\n",
    "                scenario_name=catastrophe,\n",
    "            )\n",
    "        elif catastrophe == \"ASRS + GCIL\":\n",
    "            if crop == \"Soya beans\":\n",
    "                crop_name = \"Soybean\"\n",
    "            else:\n",
    "                crop_name = crop\n",
    "            crop_catastrophe = PyTradeShifts(\n",
    "                crop=crop,\n",
    "                base_year=base_year,\n",
    "                region=\"Global\",\n",
    "                testing=False,\n",
    "                cd_kwargs={\"seed\": 2},\n",
    "                make_plot=False,\n",
    "                scenario_file_name=\"GCIL_plus_NW/combined_\"+crop_name+\".csv\",\n",
    "                scenario_name=catastrophe,\n",
    "            )\n",
    "        scenarios.append(crop_catastrophe)\n",
    "    crop_scenarios[crop] = scenarios\n"
   ]
  },
  {
   "cell_type": "code",
   "execution_count": 3,
   "metadata": {},
   "outputs": [
    {
     "name": "stdout",
     "output_type": "stream",
     "text": [
      "Wheat\n",
      "Starting postprocessing computations...\n",
      "Rice\n",
      "Starting postprocessing computations...\n",
      "Soya beans\n",
      "Starting postprocessing computations...\n",
      "Maize\n",
      "Starting postprocessing computations...\n",
      "Warning: Moldova has no community in scenario 2.\n",
      "Warning: Slovenia has no community in scenario 2.\n",
      "Warning: Moldova has no community in scenario 3.\n"
     ]
    }
   ],
   "source": [
    "crop_comparison ={}\n",
    "for crop in crops:\n",
    "    print(crop)\n",
    "    crop_comparison[crop] = Postprocessing(crop_scenarios[crop])"
   ]
  },
  {
   "cell_type": "code",
   "execution_count": 4,
   "metadata": {},
   "outputs": [
    {
     "name": "stderr",
     "output_type": "stream",
     "text": [
      "/tmp/ipykernel_47456/1711558423.py:20: FutureWarning: The behavior of DataFrame concatenation with empty or all-NA entries is deprecated. In a future version, this will no longer exclude empty or all-NA columns when determining the result dtypes. To retain the old behavior, exclude the relevant entries before the concat operation.\n",
      "  network_df = pd.concat([network_df, temp_df], ignore_index=True)\n",
      "/tmp/ipykernel_47456/1711558423.py:20: FutureWarning: The behavior of DataFrame concatenation with empty or all-NA entries is deprecated. In a future version, this will no longer exclude empty or all-NA columns when determining the result dtypes. To retain the old behavior, exclude the relevant entries before the concat operation.\n",
      "  network_df = pd.concat([network_df, temp_df], ignore_index=True)\n",
      "/tmp/ipykernel_47456/1711558423.py:20: FutureWarning: The behavior of DataFrame concatenation with empty or all-NA entries is deprecated. In a future version, this will no longer exclude empty or all-NA columns when determining the result dtypes. To retain the old behavior, exclude the relevant entries before the concat operation.\n",
      "  network_df = pd.concat([network_df, temp_df], ignore_index=True)\n",
      "/tmp/ipykernel_47456/1711558423.py:20: FutureWarning: The behavior of DataFrame concatenation with empty or all-NA entries is deprecated. In a future version, this will no longer exclude empty or all-NA columns when determining the result dtypes. To retain the old behavior, exclude the relevant entries before the concat operation.\n",
      "  network_df = pd.concat([network_df, temp_df], ignore_index=True)\n"
     ]
    }
   ],
   "source": [
    "crop_network_df = {}\n",
    "for crop in crops:\n",
    "    # Create an empty dataframe\n",
    "    network_df = pd.DataFrame(columns=['Scenario', \"Country\", 'Jaccard Distance', 'Imports Relative Difference'])\n",
    "    for i, catastrophe in enumerate(catastrophes):\n",
    "        # Calculate the median for the jaccard distance\n",
    "        jaccard_similarity = crop_comparison[crop].jaccard_indices[i+1]\n",
    "\n",
    "        # Calculate the median for the imports relative difference\n",
    "        imports_relative_difference = crop_comparison[crop].imports_difference[i]\n",
    "\n",
    "        # Concat the data to the dataframe\n",
    "        for country in jaccard_similarity.keys():\n",
    "            temp_df = pd.DataFrame({\n",
    "                'Scenario': catastrophe,\n",
    "                'Country': country,\n",
    "                'Jaccard Distance': 1 - jaccard_similarity[country],\n",
    "                'Imports Relative Difference': imports_relative_difference[country]\n",
    "            }, index=[0])\n",
    "            network_df = pd.concat([network_df, temp_df], ignore_index=True)\n",
    "    crop_network_df[crop] = network_df\n"
   ]
  },
  {
   "cell_type": "code",
   "execution_count": 5,
   "metadata": {},
   "outputs": [
    {
     "name": "stderr",
     "output_type": "stream",
     "text": [
      "/tmp/ipykernel_47456/2877447875.py:6: FutureWarning: The behavior of DataFrame concatenation with empty or all-NA entries is deprecated. In a future version, this will no longer exclude empty or all-NA columns when determining the result dtypes. To retain the old behavior, exclude the relevant entries before the concat operation.\n",
      "  network_df = pd.concat([network_df, crop_network_df[crop]], ignore_index=True)\n"
     ]
    },
    {
     "data": {
      "application/vnd.microsoft.datawrangler.viewer.v0+json": {
       "columns": [
        {
         "name": "index",
         "rawType": "int64",
         "type": "integer"
        },
        {
         "name": "Crop",
         "rawType": "object",
         "type": "string"
        },
        {
         "name": "Scenario",
         "rawType": "object",
         "type": "string"
        },
        {
         "name": "Country",
         "rawType": "object",
         "type": "string"
        },
        {
         "name": "Jaccard Distance",
         "rawType": "float64",
         "type": "float"
        },
        {
         "name": "Imports Relative Difference",
         "rawType": "float64",
         "type": "float"
        }
       ],
       "conversionMethod": "pd.DataFrame",
       "ref": "9710c8b4-b653-4e00-b297-595f4378c1c2",
       "rows": [
        [
         "0",
         "Wheat",
         "GCIL",
         "Afghanistan",
         "0.33333333333333337",
         "-5.889898729840011"
        ],
        [
         "1",
         "Wheat",
         "GCIL",
         "Albania",
         "0.12765957446808507",
         "-46.97873683350476"
        ],
        [
         "2",
         "Wheat",
         "GCIL",
         "Algeria",
         "0.12765957446808507",
         "-48.0467835329917"
        ],
        [
         "3",
         "Wheat",
         "GCIL",
         "Angola",
         "0.033333333333333326",
         "-45.59553762199518"
        ],
        [
         "4",
         "Wheat",
         "GCIL",
         "Argentina",
         "0.033333333333333326",
         "0.0"
        ],
        [
         "5",
         "Wheat",
         "GCIL",
         "Armenia",
         "0.09090909090909094",
         "-17.093764506077992"
        ],
        [
         "6",
         "Wheat",
         "GCIL",
         "Australia",
         "0.03125",
         "-49.50808584690094"
        ],
        [
         "7",
         "Wheat",
         "GCIL",
         "Austria",
         "0.12765957446808507",
         "-50.04197660405561"
        ],
        [
         "8",
         "Wheat",
         "GCIL",
         "Azerbaijan",
         "0.09090909090909094",
         "-14.334766845461846"
        ],
        [
         "9",
         "Wheat",
         "GCIL",
         "Bahamas",
         "0.0625",
         "-41.500545813103095"
        ],
        [
         "10",
         "Wheat",
         "GCIL",
         "Bahrain",
         "0.03125",
         "-34.19871796458997"
        ],
        [
         "11",
         "Wheat",
         "GCIL",
         "Bangladesh",
         "0.03125",
         "-33.14667167819032"
        ],
        [
         "12",
         "Wheat",
         "GCIL",
         "Barbados",
         "0.0625",
         "-41.43222570419311"
        ],
        [
         "13",
         "Wheat",
         "GCIL",
         "Belarus",
         "0.09090909090909094",
         "-62.45009944947151"
        ],
        [
         "14",
         "Wheat",
         "GCIL",
         "Belgium",
         "0.12765957446808507",
         "-61.0555139234662"
        ],
        [
         "15",
         "Wheat",
         "GCIL",
         "Belize",
         "0.0625",
         "-41.500545775726344"
        ],
        [
         "16",
         "Wheat",
         "GCIL",
         "Benin",
         "0.033333333333333326",
         "-33.35834760066096"
        ],
        [
         "17",
         "Wheat",
         "GCIL",
         "Bhutan",
         "0.03125",
         "-26.546525955200188"
        ],
        [
         "18",
         "Wheat",
         "GCIL",
         "Bosnia and Herzegovina",
         "0.12765957446808507",
         "-50.15168032805724"
        ],
        [
         "19",
         "Wheat",
         "GCIL",
         "Botswana",
         "0.033333333333333326",
         "-47.02785427479436"
        ],
        [
         "20",
         "Wheat",
         "GCIL",
         "Brazil",
         "0.033333333333333326",
         "-29.147375329274723"
        ],
        [
         "21",
         "Wheat",
         "GCIL",
         "Bulgaria",
         "0.12765957446808507",
         "-46.432041430662"
        ],
        [
         "22",
         "Wheat",
         "GCIL",
         "Burkina Faso",
         "0.12765957446808507",
         "-58.50170477029898"
        ],
        [
         "23",
         "Wheat",
         "GCIL",
         "Burundi",
         "0.12765957446808507",
         "-36.8663246619063"
        ],
        [
         "24",
         "Wheat",
         "GCIL",
         "Cabo Verde",
         "0.12765957446808507",
         "-50.931979022332044"
        ],
        [
         "25",
         "Wheat",
         "GCIL",
         "Cameroon",
         "0.12765957446808507",
         "-47.32513644070902"
        ],
        [
         "26",
         "Wheat",
         "GCIL",
         "Canada",
         "0.0625",
         "-40.93474909810266"
        ],
        [
         "27",
         "Wheat",
         "GCIL",
         "Central African Republic",
         "0.033333333333333326",
         "-27.729901869900186"
        ],
        [
         "28",
         "Wheat",
         "GCIL",
         "Chile",
         "0.033333333333333326",
         "-35.91040268328046"
        ],
        [
         "29",
         "Wheat",
         "GCIL",
         "China",
         "0.03125",
         "-40.395198537024115"
        ],
        [
         "30",
         "Wheat",
         "GCIL",
         "Colombia",
         "0.0625",
         "-41.36859911401841"
        ],
        [
         "31",
         "Wheat",
         "GCIL",
         "Congo Republic",
         "0.033333333333333326",
         "-39.1561162246801"
        ],
        [
         "32",
         "Wheat",
         "GCIL",
         "Costa Rica",
         "0.0625",
         "-42.591468445026386"
        ],
        [
         "33",
         "Wheat",
         "GCIL",
         "Cote d'Ivoire",
         "0.12765957446808507",
         "-45.65902120664288"
        ],
        [
         "34",
         "Wheat",
         "GCIL",
         "Croatia",
         "0.12765957446808507",
         "-49.57675271201199"
        ],
        [
         "35",
         "Wheat",
         "GCIL",
         "Cuba",
         "0.12765957446808507",
         "-62.20131434178191"
        ],
        [
         "36",
         "Wheat",
         "GCIL",
         "Cyprus",
         "0.09090909090909094",
         "-36.9227544697247"
        ],
        [
         "37",
         "Wheat",
         "GCIL",
         "Czechia",
         "0.12765957446808507",
         "-41.44540067386425"
        ],
        [
         "38",
         "Wheat",
         "GCIL",
         "DR Congo",
         "1.0",
         "-48.676586665891826"
        ],
        [
         "39",
         "Wheat",
         "GCIL",
         "Denmark",
         "0.12765957446808507",
         "-53.333089920946634"
        ],
        [
         "40",
         "Wheat",
         "GCIL",
         "Djibouti",
         "0.03125",
         "-35.69770976572191"
        ],
        [
         "41",
         "Wheat",
         "GCIL",
         "Dominican Republic",
         "0.0625",
         "-41.10932941640582"
        ],
        [
         "42",
         "Wheat",
         "GCIL",
         "Ecuador",
         "0.0625",
         "-38.36004148805302"
        ],
        [
         "43",
         "Wheat",
         "GCIL",
         "Egypt",
         "0.09090909090909094",
         "-32.46989972770669"
        ],
        [
         "44",
         "Wheat",
         "GCIL",
         "El Salvador",
         "0.0625",
         "-41.846507552807665"
        ],
        [
         "45",
         "Wheat",
         "GCIL",
         "Eritrea",
         "0.03125",
         "-39.45488333702087"
        ],
        [
         "46",
         "Wheat",
         "GCIL",
         "Estonia",
         "0.033333333333333326",
         "-38.51289332723855"
        ],
        [
         "47",
         "Wheat",
         "GCIL",
         "Eswatini",
         "0.033333333333333326",
         "-47.077215932501566"
        ],
        [
         "48",
         "Wheat",
         "GCIL",
         "Ethiopia",
         "0.0625",
         "-39.78587714872045"
        ],
        [
         "49",
         "Wheat",
         "GCIL",
         "Faroe Islands",
         "0.12765957446808507",
         "-57.92302753787053"
        ]
       ],
       "shape": {
        "columns": 5,
        "rows": 2085
       }
      },
      "text/html": [
       "<div>\n",
       "<style scoped>\n",
       "    .dataframe tbody tr th:only-of-type {\n",
       "        vertical-align: middle;\n",
       "    }\n",
       "\n",
       "    .dataframe tbody tr th {\n",
       "        vertical-align: top;\n",
       "    }\n",
       "\n",
       "    .dataframe thead th {\n",
       "        text-align: right;\n",
       "    }\n",
       "</style>\n",
       "<table border=\"1\" class=\"dataframe\">\n",
       "  <thead>\n",
       "    <tr style=\"text-align: right;\">\n",
       "      <th></th>\n",
       "      <th>Crop</th>\n",
       "      <th>Scenario</th>\n",
       "      <th>Country</th>\n",
       "      <th>Jaccard Distance</th>\n",
       "      <th>Imports Relative Difference</th>\n",
       "    </tr>\n",
       "  </thead>\n",
       "  <tbody>\n",
       "    <tr>\n",
       "      <th>0</th>\n",
       "      <td>Wheat</td>\n",
       "      <td>GCIL</td>\n",
       "      <td>Afghanistan</td>\n",
       "      <td>0.333333</td>\n",
       "      <td>-5.889899</td>\n",
       "    </tr>\n",
       "    <tr>\n",
       "      <th>1</th>\n",
       "      <td>Wheat</td>\n",
       "      <td>GCIL</td>\n",
       "      <td>Albania</td>\n",
       "      <td>0.127660</td>\n",
       "      <td>-46.978737</td>\n",
       "    </tr>\n",
       "    <tr>\n",
       "      <th>2</th>\n",
       "      <td>Wheat</td>\n",
       "      <td>GCIL</td>\n",
       "      <td>Algeria</td>\n",
       "      <td>0.127660</td>\n",
       "      <td>-48.046784</td>\n",
       "    </tr>\n",
       "    <tr>\n",
       "      <th>3</th>\n",
       "      <td>Wheat</td>\n",
       "      <td>GCIL</td>\n",
       "      <td>Angola</td>\n",
       "      <td>0.033333</td>\n",
       "      <td>-45.595538</td>\n",
       "    </tr>\n",
       "    <tr>\n",
       "      <th>4</th>\n",
       "      <td>Wheat</td>\n",
       "      <td>GCIL</td>\n",
       "      <td>Argentina</td>\n",
       "      <td>0.033333</td>\n",
       "      <td>0.000000</td>\n",
       "    </tr>\n",
       "    <tr>\n",
       "      <th>...</th>\n",
       "      <td>...</td>\n",
       "      <td>...</td>\n",
       "      <td>...</td>\n",
       "      <td>...</td>\n",
       "      <td>...</td>\n",
       "    </tr>\n",
       "    <tr>\n",
       "      <th>2080</th>\n",
       "      <td>Maize</td>\n",
       "      <td>ASRS + GCIL</td>\n",
       "      <td>Venezuela</td>\n",
       "      <td>0.816327</td>\n",
       "      <td>-70.964646</td>\n",
       "    </tr>\n",
       "    <tr>\n",
       "      <th>2081</th>\n",
       "      <td>Maize</td>\n",
       "      <td>ASRS + GCIL</td>\n",
       "      <td>Vietnam</td>\n",
       "      <td>0.530120</td>\n",
       "      <td>-59.897651</td>\n",
       "    </tr>\n",
       "    <tr>\n",
       "      <th>2082</th>\n",
       "      <td>Maize</td>\n",
       "      <td>ASRS + GCIL</td>\n",
       "      <td>Yemen</td>\n",
       "      <td>0.530120</td>\n",
       "      <td>-65.425082</td>\n",
       "    </tr>\n",
       "    <tr>\n",
       "      <th>2083</th>\n",
       "      <td>Maize</td>\n",
       "      <td>ASRS + GCIL</td>\n",
       "      <td>Zambia</td>\n",
       "      <td>0.800000</td>\n",
       "      <td>-36.480407</td>\n",
       "    </tr>\n",
       "    <tr>\n",
       "      <th>2084</th>\n",
       "      <td>Maize</td>\n",
       "      <td>ASRS + GCIL</td>\n",
       "      <td>Zimbabwe</td>\n",
       "      <td>0.800000</td>\n",
       "      <td>-60.086032</td>\n",
       "    </tr>\n",
       "  </tbody>\n",
       "</table>\n",
       "<p>2085 rows × 5 columns</p>\n",
       "</div>"
      ],
      "text/plain": [
       "       Crop     Scenario      Country  Jaccard Distance  \\\n",
       "0     Wheat         GCIL  Afghanistan          0.333333   \n",
       "1     Wheat         GCIL      Albania          0.127660   \n",
       "2     Wheat         GCIL      Algeria          0.127660   \n",
       "3     Wheat         GCIL       Angola          0.033333   \n",
       "4     Wheat         GCIL    Argentina          0.033333   \n",
       "...     ...          ...          ...               ...   \n",
       "2080  Maize  ASRS + GCIL    Venezuela          0.816327   \n",
       "2081  Maize  ASRS + GCIL      Vietnam          0.530120   \n",
       "2082  Maize  ASRS + GCIL        Yemen          0.530120   \n",
       "2083  Maize  ASRS + GCIL       Zambia          0.800000   \n",
       "2084  Maize  ASRS + GCIL     Zimbabwe          0.800000   \n",
       "\n",
       "      Imports Relative Difference  \n",
       "0                       -5.889899  \n",
       "1                      -46.978737  \n",
       "2                      -48.046784  \n",
       "3                      -45.595538  \n",
       "4                        0.000000  \n",
       "...                           ...  \n",
       "2080                   -70.964646  \n",
       "2081                   -59.897651  \n",
       "2082                   -65.425082  \n",
       "2083                   -36.480407  \n",
       "2084                   -60.086032  \n",
       "\n",
       "[2085 rows x 5 columns]"
      ]
     },
     "execution_count": 5,
     "metadata": {},
     "output_type": "execute_result"
    }
   ],
   "source": [
    "# Go through all crops and concat all dfs in crop_network_df dict to one df\n",
    "# Add a column with the crop name\n",
    "network_df = pd.DataFrame(columns=['Crop', 'Scenario', \"Country\", 'Jaccard Distance', 'Imports Relative Difference'])\n",
    "for crop in crops:\n",
    "    crop_network_df[crop]['Crop'] = crop\n",
    "    network_df = pd.concat([network_df, crop_network_df[crop]], ignore_index=True)\n",
    "network_df"
   ]
  },
  {
   "cell_type": "code",
   "execution_count": 6,
   "metadata": {},
   "outputs": [
    {
     "data": {
      "text/plain": [
       "Text(0.5, 0, '')"
      ]
     },
     "execution_count": 6,
     "metadata": {},
     "output_type": "execute_result"
    },
    {
     "data": {
      "image/png": "[encoded data removed]",
      "text/plain": [
       "<Figure size 1500x750 with 2 Axes>"
      ]
     },
     "metadata": {},
     "output_type": "display_data"
    }
   ],
   "source": [
    "fig, axes = plt.subplots(1, 2, figsize=(10, 5))\n",
    "sns.boxplot(x='Scenario', y='Jaccard Distance', hue=\"Crop\", data=network_df, ax=axes[0], palette= [\"#d6a93a\", \"#3D87CB\", \"#c13d32\", \"#75777a\"])\n",
    "sns.boxplot(x='Scenario', y='Imports Relative Difference', hue=\"Crop\", data=network_df, ax=axes[1], palette= [\"#d6a93a\", \"#3D87CB\", \"#c13d32\", \"#75777a\"])\n",
    "axes[0].get_legend().remove()\n",
    "axes[1].set_ylabel('Imports Relative Difference [%]')\n",
    "# place the legend in the lower left corner for the first plot\n",
    "axes[1].legend(loc='upper left')\n",
    "# Remove the xlabel for both plots\n",
    "axes[0].set_xlabel('')\n",
    "axes[1].set_xlabel('')"
   ]
  },
  {
   "cell_type": "code",
   "execution_count": 7,
   "metadata": {},
   "outputs": [
    {
     "name": "stdout",
     "output_type": "stream",
     "text": [
      "GCIL\n",
      "Wheat\n",
      "Rice\n",
      "Soya beans\n",
      "Maize\n",
      "ASRS\n",
      "Wheat\n",
      "Rice\n",
      "Soya beans\n",
      "Maize\n"
     ]
    },
    {
     "data": {
      "application/vnd.microsoft.datawrangler.viewer.v0+json": {
       "columns": [
        {
         "name": "index",
         "rawType": "int64",
         "type": "integer"
        },
        {
         "name": "Country",
         "rawType": "object",
         "type": "string"
        },
        {
         "name": "Yield Relative Change",
         "rawType": "float64",
         "type": "float"
        },
        {
         "name": "Crop",
         "rawType": "object",
         "type": "string"
        },
        {
         "name": "Scenario",
         "rawType": "object",
         "type": "string"
        }
       ],
       "conversionMethod": "pd.DataFrame",
       "ref": "ed2c88e5-f23e-40fe-a17c-4636a023c924",
       "rows": [
        [
         "0",
         "Japan",
         "-16.577032208442688",
         "Wheat",
         "GCIL"
        ],
        [
         "1",
         "Poland",
         "-51.24472379684448",
         "Wheat",
         "GCIL"
        ],
        [
         "2",
         "Armenia",
         "-31.69093430042267",
         "Wheat",
         "GCIL"
        ],
        [
         "3",
         "Jordan",
         "0.0",
         "Wheat",
         "GCIL"
        ],
        [
         "4",
         "Moldova",
         "-32.36582577228546",
         "Wheat",
         "GCIL"
        ]
       ],
       "shape": {
        "columns": 4,
        "rows": 5
       }
      },
      "text/html": [
       "<div>\n",
       "<style scoped>\n",
       "    .dataframe tbody tr th:only-of-type {\n",
       "        vertical-align: middle;\n",
       "    }\n",
       "\n",
       "    .dataframe tbody tr th {\n",
       "        vertical-align: top;\n",
       "    }\n",
       "\n",
       "    .dataframe thead th {\n",
       "        text-align: right;\n",
       "    }\n",
       "</style>\n",
       "<table border=\"1\" class=\"dataframe\">\n",
       "  <thead>\n",
       "    <tr style=\"text-align: right;\">\n",
       "      <th></th>\n",
       "      <th>Country</th>\n",
       "      <th>Yield Relative Change</th>\n",
       "      <th>Crop</th>\n",
       "      <th>Scenario</th>\n",
       "    </tr>\n",
       "  </thead>\n",
       "  <tbody>\n",
       "    <tr>\n",
       "      <th>0</th>\n",
       "      <td>Japan</td>\n",
       "      <td>-16.577032</td>\n",
       "      <td>Wheat</td>\n",
       "      <td>GCIL</td>\n",
       "    </tr>\n",
       "    <tr>\n",
       "      <th>1</th>\n",
       "      <td>Poland</td>\n",
       "      <td>-51.244724</td>\n",
       "      <td>Wheat</td>\n",
       "      <td>GCIL</td>\n",
       "    </tr>\n",
       "    <tr>\n",
       "      <th>2</th>\n",
       "      <td>Armenia</td>\n",
       "      <td>-31.690934</td>\n",
       "      <td>Wheat</td>\n",
       "      <td>GCIL</td>\n",
       "    </tr>\n",
       "    <tr>\n",
       "      <th>3</th>\n",
       "      <td>Jordan</td>\n",
       "      <td>0.000000</td>\n",
       "      <td>Wheat</td>\n",
       "      <td>GCIL</td>\n",
       "    </tr>\n",
       "    <tr>\n",
       "      <th>4</th>\n",
       "      <td>Moldova</td>\n",
       "      <td>-32.365826</td>\n",
       "      <td>Wheat</td>\n",
       "      <td>GCIL</td>\n",
       "    </tr>\n",
       "  </tbody>\n",
       "</table>\n",
       "</div>"
      ],
      "text/plain": [
       "   Country  Yield Relative Change   Crop Scenario\n",
       "0    Japan             -16.577032  Wheat     GCIL\n",
       "1   Poland             -51.244724  Wheat     GCIL\n",
       "2  Armenia             -31.690934  Wheat     GCIL\n",
       "3   Jordan               0.000000  Wheat     GCIL\n",
       "4  Moldova             -32.365826  Wheat     GCIL"
      ]
     },
     "execution_count": 7,
     "metadata": {},
     "output_type": "execute_result"
    }
   ],
   "source": [
    "dfs_list = []\n",
    "catastrophes = [\"GCIL\", \"ASRS\"]\n",
    "crops = [\"Wheat\", \"Rice\", \"Soya beans\", \"Maize\"]\n",
    "# Compare the overall yield decline for the different scenarios\n",
    "for catastrophe in catastrophes:\n",
    "    print(catastrophe)\n",
    "    for crop in crops:\n",
    "        print(crop)\n",
    "        if catastrophe == \"ASRS\":\n",
    "            if crop == \"Wheat\":\n",
    "                crop_name = \"swheat\"\n",
    "            elif crop == \"Rice\":\n",
    "                crop_name = \"rice\"\n",
    "            elif crop == \"Soya beans\":\n",
    "                crop_name = \"soy\"\n",
    "            elif crop == \"Maize\":\n",
    "                crop_name = \"corn\"\n",
    "            data = pd.read_csv(f\"data{os.sep}scenario_files{os.sep}nuclear_winter{os.sep}xia_37tg_y3_{crop_name}.csv\")\n",
    "            data[\"Crop\"] = crop\n",
    "\n",
    "        else:\n",
    "            if crop == \"Soya beans\":\n",
    "                crop_name = \"Soybean\"\n",
    "            elif crop == \"Maize\":\n",
    "                crop_name = \"Corn\"\n",
    "            else:\n",
    "                crop_name = crop\n",
    "            data = pd.read_csv(f\"data{os.sep}scenario_files{os.sep}losing_industry{os.sep}{crop_name}2mean_values.csv\")\n",
    "            data[\"Crop\"] = crop\n",
    "\n",
    "        data.columns = [\"Country\", \"Yield Relative Change\", \"Crop\"]\n",
    "        data[\"Scenario\"] = catastrophe\n",
    "        dfs_list.append(data)\n",
    "\n",
    "df = pd.concat(dfs_list, axis=0)\n",
    "df.head()"
   ]
  },
  {
   "cell_type": "code",
   "execution_count": 8,
   "metadata": {},
   "outputs": [
    {
     "data": {
      "text/plain": [
       "<matplotlib.legend.Legend at 0x7117ecf37b30>"
      ]
     },
     "execution_count": 8,
     "metadata": {},
     "output_type": "execute_result"
    },
    {
     "data": {
      "image/png": "[encoded data removed]",
      "text/plain": [
       "<Figure size 1500x750 with 1 Axes>"
      ]
     },
     "metadata": {},
     "output_type": "display_data"
    }
   ],
   "source": [
    "fig, ax = plt.subplots(1, 1, figsize=(10, 5))\n",
    "sns.boxplot(y='Scenario', x='Yield Relative Change', hue=\"Crop\", data=df, ax=ax, palette= [\"#d6a93a\", \"#3D87CB\", \"#c13d32\", \"#75777a\"])\n",
    "ax.get_legend().remove()\n",
    "ax.set_xlabel(\"Yield Relative Change [%]\")\n",
    "# place the legend in the lower left corner for the first plot\n",
    "ax.legend()"
   ]
  }
 ],
 "metadata": {
  "kernelspec": {
   "display_name": "pytradeshifts",
   "language": "python",
   "name": "python3"
  },
  "language_info": {
   "codemirror_mode": {
    "name": "ipython",
    "version": 3
   },
   "file_extension": ".py",
   "mimetype": "text/x-python",
   "name": "python",
   "nbconvert_exporter": "python",
   "pygments_lexer": "ipython3",
   "version": "3.12.2"
  }
 },
 "nbformat": 4,
 "nbformat_minor": 2
}
