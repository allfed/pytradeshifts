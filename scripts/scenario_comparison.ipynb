{
 "cells": [
  {
   "cell_type": "code",
   "execution_count": null,
   "metadata": {},
   "outputs": [],
   "source": [
    "from src.model import PyTradeShifts\n",
    "from src.postprocessing import PostProcessing"
   ]
  },
  {
   "cell_type": "code",
   "execution_count": null,
   "metadata": {},
   "outputs": [],
   "source": [
    "scenario1 = PyTradeShifts(....)\n",
    "scenario2 = PyTradeShifts(....)\n",
    "scenario3 = PyTradeShifts(....)"
   ]
  },
  {
   "cell_type": "code",
   "execution_count": null,
   "metadata": {},
   "outputs": [],
   "source": [
    "comparison = PostProcessing([scenario1, scenario2, scenario3])\n",
    "# Probably give some more options to the user to select the comparison type"
   ]
  },
  {
   "cell_type": "code",
   "execution_count": null,
   "metadata": {},
   "outputs": [],
   "source": [
    "comparison.plot()\n",
    "# Some nice plots to compare the scenarios"
   ]
  },
  {
   "cell_type": "code",
   "execution_count": null,
   "metadata": {},
   "outputs": [],
   "source": [
    "comparison.report()\n",
    "# A markdown/pdf report with the comparison results"
   ]
  }
 ],
 "metadata": {
  "language_info": {
   "name": "python"
  }
 },
 "nbformat": 4,
 "nbformat_minor": 2
}
