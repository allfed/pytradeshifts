{
 "cells": [
  {
   "cell_type": "code",
   "execution_count": 2,
   "metadata": {},
   "outputs": [],
   "source": [
    "import pandas as pd\n",
    "import os\n",
    "import country_converter as coco\n",
    "import logging\n",
    "from zipfile import ZipFile"
   ]
  },
  {
   "cell_type": "code",
   "execution_count": 3,
   "metadata": {},
   "outputs": [
    {
     "name": "stdout",
     "output_type": "stream",
     "text": [
      "Unzipping file\n",
      "Finished unzipping file\n",
      "Reading csv from zip\n",
      "Finished reading csv from zip\n"
     ]
    }
   ],
   "source": [
    "print(\"Unzipping file\")\n",
    "faostat_zip = \"../data/data_raw/Trade_DetailedTradeMatrix_E_All_Data.zip\"\n",
    "zip_file = ZipFile(faostat_zip)\n",
    "print(\"Finished unzipping file\")\n",
    "print(\"Reading csv from zip\")\n",
    "df = pd.read_csv(\n",
    "    zip_file.open(faostat_zip[faostat_zip.rfind(\"/\") + 1 :].replace(\"zip\", \"csv\")),\n",
    "    encoding=\"latin1\",\n",
    "    low_memory=False,\n",
    ")\n",
    "print(\"Finished reading csv from zip\")"
   ]
  },
  {
   "cell_type": "code",
   "execution_count": 20,
   "metadata": {},
   "outputs": [
    {
     "data": {
      "text/plain": [
       "2531.826224798539"
      ]
     },
     "execution_count": 20,
     "metadata": {},
     "output_type": "execute_result"
    }
   ],
   "source": [
    "trad = df.copy()\n",
    "trad = trad[[\"Reporter Country Code (M49)\", \"Partner Country Code (M49)\", \"Item\", \"Unit\", \"Element\", \"Y1993\"]]\n",
    "trad[\"Y1993\"].mean()"
   ]
  },
  {
   "cell_type": "code",
   "execution_count": 12,
   "metadata": {},
   "outputs": [
    {
     "data": {
      "text/plain": [
       "array(['t', '1000 USD', '1000 An', 'An', 'No'], dtype=object)"
      ]
     },
     "execution_count": 12,
     "metadata": {},
     "output_type": "execute_result"
    }
   ],
   "source": [
    "trad[\"Unit\"].unique()"
   ]
  },
  {
   "cell_type": "code",
   "execution_count": 14,
   "metadata": {},
   "outputs": [
    {
     "data": {
      "text/plain": [
       "47002.9852631579"
      ]
     },
     "execution_count": 14,
     "metadata": {},
     "output_type": "execute_result"
    }
   ],
   "source": [
    "trad = trad[trad[\"Item\"] == \"Maize (corn)\"]\n",
    "trad[\"Y1993\"].mean()\n"
   ]
  },
  {
   "cell_type": "code",
   "execution_count": 15,
   "metadata": {},
   "outputs": [
    {
     "data": {
      "text/plain": [
       "82619.95368421053"
      ]
     },
     "execution_count": 15,
     "metadata": {},
     "output_type": "execute_result"
    }
   ],
   "source": [
    "trad = trad[trad[\"Unit\"] == \"t\"]\n",
    "trad[\"Y1993\"].mean()\n"
   ]
  },
  {
   "cell_type": "code",
   "execution_count": 16,
   "metadata": {},
   "outputs": [
    {
     "data": {
      "text/plain": [
       "array(['Export Quantity', 'Import Quantity'], dtype=object)"
      ]
     },
     "execution_count": 16,
     "metadata": {},
     "output_type": "execute_result"
    }
   ],
   "source": [
    "trad[\"Element\"].unique()"
   ]
  },
  {
   "cell_type": "code",
   "execution_count": 17,
   "metadata": {},
   "outputs": [
    {
     "data": {
      "text/plain": [
       "86353.1992136304"
      ]
     },
     "execution_count": 17,
     "metadata": {},
     "output_type": "execute_result"
    }
   ],
   "source": [
    "trad = trad[trad[\"Element\"] == \"Export Quantity\"]\n",
    "trad[\"Y1993\"].mean()"
   ]
  },
  {
   "cell_type": "code",
   "execution_count": 21,
   "metadata": {},
   "outputs": [
    {
     "data": {
      "text/plain": [
       "86353.1992136304"
      ]
     },
     "execution_count": 21,
     "metadata": {},
     "output_type": "execute_result"
    }
   ],
   "source": [
    "trad = trad[\n",
    "    (\n",
    "        (trad[\"Item\"] == \"Maize (corn)\")\n",
    "        & (trad[\"Unit\"] == \"t\")\n",
    "        & (trad[\"Element\"] == \"Export Quantity\")\n",
    "    )\n",
    "]\n",
    "trad[\"Y1993\"].mean()"
   ]
  }
 ],
 "metadata": {
  "kernelspec": {
   "display_name": "pytradeshifts",
   "language": "python",
   "name": "python3"
  },
  "language_info": {
   "codemirror_mode": {
    "name": "ipython",
    "version": 3
   },
   "file_extension": ".py",
   "mimetype": "text/x-python",
   "name": "python",
   "nbconvert_exporter": "python",
   "pygments_lexer": "ipython3",
   "version": "3.12.2"
  }
 },
 "nbformat": 4,
 "nbformat_minor": 2
}
