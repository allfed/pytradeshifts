{
 "cells": [
  {
   "cell_type": "code",
   "execution_count": null,
   "metadata": {},
   "outputs": [],
   "source": [
    "from src.model import PyTradeShifts\n",
    "from src.utils import get_distance_matrix\n",
    "from scipy.stats import linregress\n",
    "from src.preprocessing import main as preprocessing_main\n",
    "import os\n",
    "import pandas as pd\n",
    "import numpy as np\n",
    "\n",
    "data_dir = os.path.join(os.path.dirname(os.getcwd()))\n",
    "os.chdir(data_dir)"
   ]
  },
  {
   "cell_type": "code",
   "execution_count": null,
   "metadata": {},
   "outputs": [],
   "source": [
    "years_to_consider = list(range(1993, 2022))\n",
    "#crops_to_consider = [\"Maize (corn)\", \"Wheat\", \"Rice, paddy (rice milled equivalent)\", \"Soya beans\"]\n",
    "crops_to_consider = [\"Rice, paddy (rice milled equivalent)\"]\n"
   ]
  },
  {
   "cell_type": "code",
   "execution_count": null,
   "metadata": {},
   "outputs": [],
   "source": [
    "run_preprocessing = True\n",
    "if run_preprocessing:\n",
    "    for year in years_to_consider:\n",
    "        print(year)\n",
    "        for crop in crops_to_consider:\n",
    "            preprocessing_main(region=\"All_Data\", item=crop, year=\"Y\" + str(year))"
   ]
  },
  {
   "cell_type": "code",
   "execution_count": null,
   "metadata": {},
   "outputs": [],
   "source": [
    "def get_matrices(crop, year):\n",
    "    \"\"\"Get trade and distance matrices for the global wheat trade in 2018.\"\"\"\n",
    "    crop_trade = PyTradeShifts(\n",
    "        crop,\n",
    "        year,\n",
    "        region=\"Global\",\n",
    "        testing=True,\n",
    "        make_plot=False,\n",
    "    )\n",
    "    \n",
    "    crop_trade.load_data()\n",
    "    crop_trade.remove_net_zero_countries()\n",
    "    crop_trade.prebalance()\n",
    "    crop_trade.correct_reexports()\n",
    "    np.fill_diagonal(crop_trade.trade_matrix.values, 0)\n",
    "\n",
    "    dm = get_distance_matrix(\n",
    "        crop_trade.trade_matrix.index, crop_trade.trade_matrix.columns\n",
    "    )\n",
    "    return crop_trade.trade_matrix, dm"
   ]
  },
  {
   "cell_type": "code",
   "execution_count": null,
   "metadata": {},
   "outputs": [],
   "source": [
    "def get_xy_from_matrices(tm, dm):\n",
    "    \"\"\"Get x and y values from trade and distance matrices.\"\"\"\n",
    "    # a little melting trick, this will produce:\n",
    "    # a df with three columns: country A, country B, volume of trade from A to B\n",
    "    tm = tm.stack().reset_index()\n",
    "    # a df with three columns: country A, country B, distance from A to B\n",
    "    dm = dm.stack().reset_index()\n",
    "    # index order should match because tm and dm should have the same index/columns\n",
    "    # so we can just take the values and roll with it\n",
    "    # otherwise we should do a formal join here\n",
    "    y = tm[0].values\n",
    "    x = dm[0].values\n",
    "    # filter out zeroes\n",
    "    x = x[y != 0]\n",
    "    y = y[y != 0]\n",
    "    # sort values by distance\n",
    "    y = y[x.argsort()]\n",
    "    x = x[x.argsort()]\n",
    "    return x, y"
   ]
  },
  {
   "cell_type": "markdown",
   "metadata": {},
   "source": [
    "We use the approach from [Karpiarz et al.](https://arxiv.org/pdf/1409.5963.pdf) (Fig. 1), since it is beyond the scope of our work to assess and validate the (well-established) gravity model.\n",
    "\n",
    "We do not trouble ourselves with questioning whether it is or isn't a \"proper\" power-law etc., we only focus on obtaining comparible quantities to the work present in the above paper.\n",
    "\n",
    "For a more advanced approach to power-law fitting see [Clauset et al.](https://arxiv.org/pdf/0706.1062.pdf)\n"
   ]
  },
  {
   "cell_type": "code",
   "execution_count": null,
   "metadata": {},
   "outputs": [],
   "source": [
    "def get_vr(x, y):\n",
    "    # integrate over distance\n",
    "    vr = np.cumsum(y)[::-1]\n",
    "    return vr"
   ]
  },
  {
   "cell_type": "code",
   "execution_count": null,
   "metadata": {},
   "outputs": [],
   "source": [
    "def get_best_fit(x, vr):\n",
    "    # convert to log-log\n",
    "    x = np.log(x)\n",
    "    vr = np.log(vr)\n",
    "    # find the best fit in a reasonable range\n",
    "    # in theory we could run this for each possible segment (computationally insane)\n",
    "    # but a) we want to start from index 0 (we're interested in highest trade volume the most)\n",
    "    # and b) we need to make sure we do not take too few points, becasue we risk overfitting\n",
    "    best_r = 0\n",
    "    best_a = 0\n",
    "    best_b = 0\n",
    "    best_end_of_lin = 0\n",
    "    for end_of_lin in np.arange(100, 4001, 1):\n",
    "        slope, intercept, r, p, stderr = linregress(x[0:end_of_lin], vr[0:end_of_lin])\n",
    "        if r**2 > best_r:\n",
    "            best_r = r**2\n",
    "            best_a = slope\n",
    "            best_b = intercept\n",
    "            best_end_of_lin = end_of_lin\n",
    "\n",
    "    # print the result, we print a+1 because the slope fitted to the integral\n",
    "    # is a - 1 where a is the coefficient in the trade data\n",
    "    return best_end_of_lin, best_r, best_a+1\n"
   ]
  },
  {
   "cell_type": "code",
   "execution_count": null,
   "metadata": {},
   "outputs": [],
   "source": [
    "# Create a dataframe with the years as the index and the crops as the columns\n",
    "results = {}\n",
    "for year in years_to_consider:\n",
    "    results[year] = {}\n",
    "    for crop in crops_to_consider:\n",
    "        if crop == \"Maize (corn)\": crop = \"Maize\"\n",
    "        if crop == \"Rice, paddy (rice milled equivalent)\": crop = \"Rice\"\n",
    "        tm, dm = get_matrices(crop, year)\n",
    "        x, y = get_xy_from_matrices(tm, dm)\n",
    "        vr = get_vr(x, y)\n",
    "        best_end_of_lin, best_r, best_a = get_best_fit(x, vr)\n",
    "        results[year][crop] = best_a\n",
    "\n",
    "# make the dataframe\n",
    "df = pd.DataFrame(results).transpose()\n",
    "# Save the dataframe\n",
    "df.to_csv(\"results\" +os.sep + \"gravity_exponent.csv\")"
   ]
  },
  {
   "cell_type": "code",
   "execution_count": null,
   "metadata": {},
   "outputs": [],
   "source": [
    "df = pd.read_csv(\"results\" +os.sep + \"gravity_exponent.csv\", index_col=0)"
   ]
  },
  {
   "cell_type": "code",
   "execution_count": null,
   "metadata": {},
   "outputs": [],
   "source": [
    "df.plot(kind=\"bar\", title=\"Gravity exponent for different crops and years\", subplots=True, layout=(2, 2), figsize=(10, 5), legend=False)"
   ]
  }
 ],
 "metadata": {
  "kernelspec": {
   "display_name": "Python 3 (ipykernel)",
   "language": "python",
   "name": "python3"
  },
  "language_info": {
   "codemirror_mode": {
    "name": "ipython",
    "version": 3
   },
   "file_extension": ".py",
   "mimetype": "text/x-python",
   "name": "python",
   "nbconvert_exporter": "python",
   "pygments_lexer": "ipython3",
   "version": "3.12.2"
  }
 },
 "nbformat": 4,
 "nbformat_minor": 4
}
