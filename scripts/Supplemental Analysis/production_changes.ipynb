{
 "cells": [
  {
   "cell_type": "code",
   "execution_count": 1,
   "id": "1edb29ee",
   "metadata": {},
   "outputs": [
    {
     "name": "stdout",
     "output_type": "stream",
     "text": [
      "/home/florian/Documents/GitHub/pytradeshifts\n"
     ]
    }
   ],
   "source": [
    "from src.model import PyTradeShifts\n",
    "from src.postprocessing import Postprocessing\n",
    "import country_converter as coco\n",
    "import pandas as pd\n",
    "import os\n",
    "os.chdir('../../')\n",
    "print(os.getcwd())"
   ]
  },
  {
   "cell_type": "code",
   "execution_count": 2,
   "id": "882978f4",
   "metadata": {},
   "outputs": [
    {
     "name": "stdout",
     "output_type": "stream",
     "text": [
      "The yield reduction globally for global catastrophic infrastructure is:  -33.96857678890228\n",
      "This considers n =  94  countries\n"
     ]
    }
   ],
   "source": [
    "LoI_data = pd.read_csv(\"data/scenario_files/losing_industry/Wheat2mean_values.csv\")\n",
    "print(\"The yield reduction globally for global catastrophic infrastructure is: \", LoI_data[\"mean_value\"].median())\n",
    "print(\"This considers n = \", len(LoI_data), \" countries\")"
   ]
  },
  {
   "cell_type": "code",
   "execution_count": 3,
   "id": "ee045e60",
   "metadata": {},
   "outputs": [
    {
     "name": "stdout",
     "output_type": "stream",
     "text": [
      "The yield reduction globally for nuclear winter is:  -27.91\n",
      "This considers n =  123  countries\n"
     ]
    }
   ],
   "source": [
    "NW_data = pd.read_csv(\"data/scenario_files/nuclear_winter/xia_37tg_y3_swheat.csv\")\n",
    "print(\"The yield reduction globally for nuclear winter is: \", NW_data[\"37tg\"].median())\n",
    "print(\"This considers n = \", len(NW_data), \" countries\")"
   ]
  },
  {
   "cell_type": "code",
   "execution_count": 4,
   "id": "cc371210",
   "metadata": {},
   "outputs": [
    {
     "name": "stdout",
     "output_type": "stream",
     "text": [
      "Loaded data for Wheat in Y2022.\n",
      "Removed 1 countries with no trade or production.\n",
      "Removed countries: ['South Sudan']\n",
      "Prebalanced trade matrix.\n",
      "Corrected re-exports.\n",
      "Removed countries with trade below the 75th percentile.\n",
      "Built trade graph.\n",
      "Found 6 trade communities.\n",
      "Loaded data for Wheat in Y2022.\n",
      "Removed 1 countries with no trade or production.\n",
      "Removed countries: ['South Sudan']\n",
      "Prebalanced trade matrix.\n",
      "Corrected re-exports.\n",
      "Removed countries with trade below the 75th percentile.\n",
      "Applied scenario Global Catastrophic Infrastructure Loss.\n",
      "Built trade graph.\n",
      "Found 6 trade communities.\n",
      "Loaded data for Wheat in Y2022.\n",
      "Removed 1 countries with no trade or production.\n",
      "Removed countries: ['South Sudan']\n",
      "Prebalanced trade matrix.\n",
      "Corrected re-exports.\n",
      "Removed countries with trade below the 75th percentile.\n",
      "Applied scenario Abrupt Sunlight Reduction Scenario.\n",
      "Built trade graph.\n",
      "Found 7 trade communities.\n"
     ]
    }
   ],
   "source": [
    "base_year = 2022\n",
    "Wheat_base = PyTradeShifts(\n",
    "    \"Wheat\",\n",
    "    base_year=base_year,\n",
    "    region=\"Global\",\n",
    "    testing=False,\n",
    "    cd_kwargs={\"seed\": 2},\n",
    "    make_plot=False,\n",
    ")\n",
    "loss_of_industry = PyTradeShifts(\n",
    "    crop=\"Wheat\",\n",
    "    base_year=base_year,\n",
    "    scenario_file_name=\"losing_industry/Wheat2mean_values.csv\",\n",
    "    scenario_name=\"Global Catastrophic Infrastructure Loss\",\n",
    "    cd_kwargs={\"seed\": 2},\n",
    "    make_plot=False,\n",
    ")\n",
    "asrs = PyTradeShifts(\n",
    "    crop=\"Wheat\",\n",
    "    base_year=base_year,\n",
    "    scenario_file_name=\"nuclear_winter/xia_37tg_y3_swheat.csv\",\n",
    "    scenario_name=\"Abrupt Sunlight Reduction Scenario\",\n",
    "    cd_kwargs={\"seed\": 2},\n",
    "    make_plot=False,\n",
    "    calculate_reduced_production=True\n",
    ")"
   ]
  },
  {
   "cell_type": "code",
   "execution_count": 5,
   "id": "57a0f03c",
   "metadata": {},
   "outputs": [
    {
     "data": {
      "text/plain": [
       "Afghanistan    2.729865e+06\n",
       "Albania        3.807258e+05\n",
       "Algeria        6.028425e+06\n",
       "Angola         5.653657e+02\n",
       "Argentina      1.703579e+07\n",
       "                   ...     \n",
       "Venezuela      2.872845e+02\n",
       "Vietnam        0.000000e+00\n",
       "Yemen          1.185100e+05\n",
       "Zambia         1.420824e+05\n",
       "Zimbabwe       1.209400e+05\n",
       "Name: Y2022, Length: 168, dtype: float64"
      ]
     },
     "execution_count": 5,
     "metadata": {},
     "output_type": "execute_result"
    }
   ],
   "source": [
    "asrs.reduced_production_data"
   ]
  }
 ],
 "metadata": {
  "kernelspec": {
   "display_name": "pytradeshifts",
   "language": "python",
   "name": "python3"
  },
  "language_info": {
   "codemirror_mode": {
    "name": "ipython",
    "version": 3
   },
   "file_extension": ".py",
   "mimetype": "text/x-python",
   "name": "python",
   "nbconvert_exporter": "python",
   "pygments_lexer": "ipython3",
   "version": "3.12.2"
  }
 },
 "nbformat": 4,
 "nbformat_minor": 5
}
