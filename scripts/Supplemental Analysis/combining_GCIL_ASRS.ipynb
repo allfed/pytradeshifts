{
 "cells": [
  {
   "cell_type": "code",
   "execution_count": 1,
   "metadata": {},
   "outputs": [
    {
     "name": "stdout",
     "output_type": "stream",
     "text": [
      "/home/florian/Documents/GitHub/pytradeshifts\n"
     ]
    }
   ],
   "source": [
    "from src.model import PyTradeShifts\n",
    "from src.postprocessing import Postprocessing\n",
    "import pandas as pd\n",
    "from matplotlib import pyplot as plt\n",
    "import seaborn as sns\n",
    "import os\n",
    "os.chdir('../../')\n",
    "print(os.getcwd())"
   ]
  },
  {
   "cell_type": "code",
   "execution_count": null,
   "metadata": {},
   "outputs": [],
   "source": [
    "base_year = 2022\n",
    "crops = [\"Wheat\", \"Rice\", \"Soya beans\", \"Maize\"]\n",
    "\n",
    "nw_crop_scenarios = {}\n",
    "for crop in crops:\n",
    "    scenarios = []\n",
    "    base = PyTradeShifts(\n",
    "        crop=crop,\n",
    "        base_year=base_year,\n",
    "        region=\"Global\",\n",
    "        testing=False,\n",
    "        cd_kwargs={\"seed\": 2},\n",
    "        make_plot=False,\n",
    "        keep_singletons=True\n",
    "    )\n",
    "    if crop == \"Wheat\":\n",
    "        xia_naming = \"swheat\"\n",
    "    elif crop == \"Rice\":\n",
    "        xia_naming = \"rice\"\n",
    "    elif crop == \"Soya Beans\":\n",
    "        xia_naming = \"soy\"\n",
    "    elif crop == \"Maize\":\n",
    "        xia_naming = \"corn\"\n",
    "\n",
    "    scenarios.append(base)\n",
    "\n",
    "    for size in nuclear_winter_sizes:\n",
    "        scenario = PyTradeShifts(\n",
    "        crop=crop,\n",
    "        base_year=base_year,\n",
    "        region=\"Global\",\n",
    "        testing=False,\n",
    "        cd_kwargs={\"seed\": 2},\n",
    "        make_plot=False,\n",
    "        keep_singletons=True,\n",
    "        scenario_file_name=f\"nuclear_winter/xia_{size}tg_y3_{xia_naming}.csv\",\n",
    "        scenario_name=f\"nuclear_winter_{size}\",\n",
    "    )\n",
    "        scenarios.append(scenario)\n",
    "    nw_crop_scenarios[crop] = scenarios\n"
   ]
  }
 ],
 "metadata": {
  "kernelspec": {
   "display_name": "Python 3",
   "language": "python",
   "name": "python3"
  },
  "language_info": {
   "codemirror_mode": {
    "name": "ipython",
    "version": 3
   },
   "file_extension": ".py",
   "mimetype": "text/x-python",
   "name": "python",
   "nbconvert_exporter": "python",
   "pygments_lexer": "ipython3",
   "version": "3.12.3"
  }
 },
 "nbformat": 4,
 "nbformat_minor": 2
}
