{
 "cells": [
  {
   "cell_type": "code",
   "execution_count": 1,
   "metadata": {},
   "outputs": [],
   "source": [
    "import pandas as pd\n",
    "import os\n",
    "from src import model"
   ]
  },
  {
   "cell_type": "code",
   "execution_count": 2,
   "metadata": {},
   "outputs": [],
   "source": [
    "\n",
    "\n",
    "# Go up one directory\n",
    "import os\n",
    "os.chdir(\"..\")"
   ]
  },
  {
   "cell_type": "code",
   "execution_count": 3,
   "metadata": {},
   "outputs": [],
   "source": [
    "Wheat = model.PyTradeShifts(\"Wheat\", 2018)"
   ]
  },
  {
   "cell_type": "code",
   "execution_count": 4,
   "metadata": {},
   "outputs": [
    {
     "data": {
      "text/html": [
       "<div>\n",
       "<style scoped>\n",
       "    .dataframe tbody tr th:only-of-type {\n",
       "        vertical-align: middle;\n",
       "    }\n",
       "\n",
       "    .dataframe tbody tr th {\n",
       "        vertical-align: top;\n",
       "    }\n",
       "\n",
       "    .dataframe thead th {\n",
       "        text-align: right;\n",
       "    }\n",
       "</style>\n",
       "<table border=\"1\" class=\"dataframe\">\n",
       "  <thead>\n",
       "    <tr style=\"text-align: right;\">\n",
       "      <th></th>\n",
       "      <th>Reporter Countries</th>\n",
       "      <th>Partner Countries</th>\n",
       "      <th>Element</th>\n",
       "      <th>Item</th>\n",
       "      <th>Unit</th>\n",
       "      <th>Quantity</th>\n",
       "    </tr>\n",
       "  </thead>\n",
       "  <tbody>\n",
       "    <tr>\n",
       "      <th>19</th>\n",
       "      <td>Argentina</td>\n",
       "      <td>Algeria</td>\n",
       "      <td>Export Quantity</td>\n",
       "      <td>Wheat</td>\n",
       "      <td>tonnes</td>\n",
       "      <td>1301430.00</td>\n",
       "    </tr>\n",
       "    <tr>\n",
       "      <th>24</th>\n",
       "      <td>Argentina</td>\n",
       "      <td>Bangladesh</td>\n",
       "      <td>Export Quantity</td>\n",
       "      <td>Wheat</td>\n",
       "      <td>tonnes</td>\n",
       "      <td>246262.00</td>\n",
       "    </tr>\n",
       "    <tr>\n",
       "      <th>29</th>\n",
       "      <td>Argentina</td>\n",
       "      <td>Bolivia (Plurinational State of)</td>\n",
       "      <td>Export Quantity</td>\n",
       "      <td>Wheat</td>\n",
       "      <td>tonnes</td>\n",
       "      <td>75956.10</td>\n",
       "    </tr>\n",
       "    <tr>\n",
       "      <th>33</th>\n",
       "      <td>Argentina</td>\n",
       "      <td>Brazil</td>\n",
       "      <td>Export Quantity</td>\n",
       "      <td>Wheat</td>\n",
       "      <td>tonnes</td>\n",
       "      <td>5910540.00</td>\n",
       "    </tr>\n",
       "    <tr>\n",
       "      <th>42</th>\n",
       "      <td>Argentina</td>\n",
       "      <td>Chile</td>\n",
       "      <td>Export Quantity</td>\n",
       "      <td>Wheat</td>\n",
       "      <td>tonnes</td>\n",
       "      <td>621948.02</td>\n",
       "    </tr>\n",
       "  </tbody>\n",
       "</table>\n",
       "</div>"
      ],
      "text/plain": [
       "   Reporter Countries                 Partner Countries          Element  \\\n",
       "19          Argentina                           Algeria  Export Quantity   \n",
       "24          Argentina                        Bangladesh  Export Quantity   \n",
       "29          Argentina  Bolivia (Plurinational State of)  Export Quantity   \n",
       "33          Argentina                            Brazil  Export Quantity   \n",
       "42          Argentina                             Chile  Export Quantity   \n",
       "\n",
       "     Item    Unit    Quantity  \n",
       "19  Wheat  tonnes  1301430.00  \n",
       "24  Wheat  tonnes   246262.00  \n",
       "29  Wheat  tonnes    75956.10  \n",
       "33  Wheat  tonnes  5910540.00  \n",
       "42  Wheat  tonnes   621948.02  "
      ]
     },
     "execution_count": 4,
     "metadata": {},
     "output_type": "execute_result"
    }
   ],
   "source": [
    "Wheat.trade_data.head()"
   ]
  },
  {
   "cell_type": "code",
   "execution_count": 5,
   "metadata": {},
   "outputs": [
    {
     "data": {
      "text/plain": [
       "Area\n",
       "Afghanistan     3613300.00\n",
       "Albania          240294.00\n",
       "Algeria         3981219.15\n",
       "Angola             2953.56\n",
       "Argentina      18518045.00\n",
       "Name: Production, dtype: float64"
      ]
     },
     "execution_count": 5,
     "metadata": {},
     "output_type": "execute_result"
    }
   ],
   "source": [
    "Wheat.production_data.head()"
   ]
  },
  {
   "cell_type": "code",
   "execution_count": 6,
   "metadata": {},
   "outputs": [
    {
     "data": {
      "text/html": [
       "<div>\n",
       "<style scoped>\n",
       "    .dataframe tbody tr th:only-of-type {\n",
       "        vertical-align: middle;\n",
       "    }\n",
       "\n",
       "    .dataframe tbody tr th {\n",
       "        vertical-align: top;\n",
       "    }\n",
       "\n",
       "    .dataframe thead th {\n",
       "        text-align: right;\n",
       "    }\n",
       "</style>\n",
       "<table border=\"1\" class=\"dataframe\">\n",
       "  <thead>\n",
       "    <tr style=\"text-align: right;\">\n",
       "      <th></th>\n",
       "      <th>Afghanistan</th>\n",
       "      <th>Albania</th>\n",
       "      <th>Algeria</th>\n",
       "      <th>Angola</th>\n",
       "      <th>Argentina</th>\n",
       "      <th>Armenia</th>\n",
       "      <th>Australia</th>\n",
       "      <th>Austria</th>\n",
       "      <th>Azerbaijan</th>\n",
       "      <th>Bahrain</th>\n",
       "      <th>...</th>\n",
       "      <th>Uganda</th>\n",
       "      <th>Ukraine</th>\n",
       "      <th>United Arab Emirates</th>\n",
       "      <th>United Kingdom of Great Britain and Northern Ireland</th>\n",
       "      <th>United Republic of Tanzania</th>\n",
       "      <th>United States of America</th>\n",
       "      <th>Uzbekistan</th>\n",
       "      <th>Venezuela (Bolivarian Republic of)</th>\n",
       "      <th>Viet Nam</th>\n",
       "      <th>Yemen</th>\n",
       "    </tr>\n",
       "  </thead>\n",
       "  <tbody>\n",
       "    <tr>\n",
       "      <th>Afghanistan</th>\n",
       "      <td>0.0</td>\n",
       "      <td>0.0</td>\n",
       "      <td>0.0</td>\n",
       "      <td>0.0</td>\n",
       "      <td>0.0</td>\n",
       "      <td>0.0</td>\n",
       "      <td>0.0</td>\n",
       "      <td>0.0</td>\n",
       "      <td>0.0</td>\n",
       "      <td>0.0</td>\n",
       "      <td>...</td>\n",
       "      <td>0.0</td>\n",
       "      <td>0.0</td>\n",
       "      <td>0.0</td>\n",
       "      <td>0.0</td>\n",
       "      <td>0.0</td>\n",
       "      <td>0.0</td>\n",
       "      <td>0.0</td>\n",
       "      <td>0.0</td>\n",
       "      <td>0.0</td>\n",
       "      <td>0.0</td>\n",
       "    </tr>\n",
       "    <tr>\n",
       "      <th>Albania</th>\n",
       "      <td>0.0</td>\n",
       "      <td>0.0</td>\n",
       "      <td>0.0</td>\n",
       "      <td>0.0</td>\n",
       "      <td>0.0</td>\n",
       "      <td>0.0</td>\n",
       "      <td>0.0</td>\n",
       "      <td>0.0</td>\n",
       "      <td>0.0</td>\n",
       "      <td>0.0</td>\n",
       "      <td>...</td>\n",
       "      <td>0.0</td>\n",
       "      <td>0.0</td>\n",
       "      <td>0.0</td>\n",
       "      <td>0.0</td>\n",
       "      <td>0.0</td>\n",
       "      <td>0.0</td>\n",
       "      <td>0.0</td>\n",
       "      <td>0.0</td>\n",
       "      <td>0.0</td>\n",
       "      <td>0.0</td>\n",
       "    </tr>\n",
       "    <tr>\n",
       "      <th>Algeria</th>\n",
       "      <td>0.0</td>\n",
       "      <td>0.0</td>\n",
       "      <td>0.0</td>\n",
       "      <td>0.0</td>\n",
       "      <td>0.0</td>\n",
       "      <td>0.0</td>\n",
       "      <td>0.0</td>\n",
       "      <td>0.0</td>\n",
       "      <td>0.0</td>\n",
       "      <td>0.0</td>\n",
       "      <td>...</td>\n",
       "      <td>0.0</td>\n",
       "      <td>0.0</td>\n",
       "      <td>0.0</td>\n",
       "      <td>0.0</td>\n",
       "      <td>0.0</td>\n",
       "      <td>0.0</td>\n",
       "      <td>0.0</td>\n",
       "      <td>0.0</td>\n",
       "      <td>0.0</td>\n",
       "      <td>0.0</td>\n",
       "    </tr>\n",
       "    <tr>\n",
       "      <th>Angola</th>\n",
       "      <td>0.0</td>\n",
       "      <td>0.0</td>\n",
       "      <td>0.0</td>\n",
       "      <td>0.0</td>\n",
       "      <td>0.0</td>\n",
       "      <td>0.0</td>\n",
       "      <td>0.0</td>\n",
       "      <td>0.0</td>\n",
       "      <td>0.0</td>\n",
       "      <td>0.0</td>\n",
       "      <td>...</td>\n",
       "      <td>0.0</td>\n",
       "      <td>0.0</td>\n",
       "      <td>0.0</td>\n",
       "      <td>0.0</td>\n",
       "      <td>0.0</td>\n",
       "      <td>0.0</td>\n",
       "      <td>0.0</td>\n",
       "      <td>0.0</td>\n",
       "      <td>0.0</td>\n",
       "      <td>0.0</td>\n",
       "    </tr>\n",
       "    <tr>\n",
       "      <th>Argentina</th>\n",
       "      <td>0.0</td>\n",
       "      <td>0.0</td>\n",
       "      <td>1301430.0</td>\n",
       "      <td>0.0</td>\n",
       "      <td>0.0</td>\n",
       "      <td>0.0</td>\n",
       "      <td>0.0</td>\n",
       "      <td>0.0</td>\n",
       "      <td>0.0</td>\n",
       "      <td>0.0</td>\n",
       "      <td>...</td>\n",
       "      <td>73119.0</td>\n",
       "      <td>0.0</td>\n",
       "      <td>0.0</td>\n",
       "      <td>0.0</td>\n",
       "      <td>0.0</td>\n",
       "      <td>0.0</td>\n",
       "      <td>0.0</td>\n",
       "      <td>0.0</td>\n",
       "      <td>195099.0</td>\n",
       "      <td>0.0</td>\n",
       "    </tr>\n",
       "  </tbody>\n",
       "</table>\n",
       "<p>5 rows × 134 columns</p>\n",
       "</div>"
      ],
      "text/plain": [
       "             Afghanistan  Albania    Algeria  Angola  Argentina  Armenia  \\\n",
       "Afghanistan          0.0      0.0        0.0     0.0        0.0      0.0   \n",
       "Albania              0.0      0.0        0.0     0.0        0.0      0.0   \n",
       "Algeria              0.0      0.0        0.0     0.0        0.0      0.0   \n",
       "Angola               0.0      0.0        0.0     0.0        0.0      0.0   \n",
       "Argentina            0.0      0.0  1301430.0     0.0        0.0      0.0   \n",
       "\n",
       "             Australia  Austria  Azerbaijan  Bahrain  ...   Uganda  Ukraine  \\\n",
       "Afghanistan        0.0      0.0         0.0      0.0  ...      0.0      0.0   \n",
       "Albania            0.0      0.0         0.0      0.0  ...      0.0      0.0   \n",
       "Algeria            0.0      0.0         0.0      0.0  ...      0.0      0.0   \n",
       "Angola             0.0      0.0         0.0      0.0  ...      0.0      0.0   \n",
       "Argentina          0.0      0.0         0.0      0.0  ...  73119.0      0.0   \n",
       "\n",
       "             United Arab Emirates  \\\n",
       "Afghanistan                   0.0   \n",
       "Albania                       0.0   \n",
       "Algeria                       0.0   \n",
       "Angola                        0.0   \n",
       "Argentina                     0.0   \n",
       "\n",
       "             United Kingdom of Great Britain and Northern Ireland  \\\n",
       "Afghanistan                                                0.0      \n",
       "Albania                                                    0.0      \n",
       "Algeria                                                    0.0      \n",
       "Angola                                                     0.0      \n",
       "Argentina                                                  0.0      \n",
       "\n",
       "             United Republic of Tanzania  United States of America  \\\n",
       "Afghanistan                          0.0                       0.0   \n",
       "Albania                              0.0                       0.0   \n",
       "Algeria                              0.0                       0.0   \n",
       "Angola                               0.0                       0.0   \n",
       "Argentina                            0.0                       0.0   \n",
       "\n",
       "             Uzbekistan  Venezuela (Bolivarian Republic of)  Viet Nam  Yemen  \n",
       "Afghanistan         0.0                                 0.0       0.0    0.0  \n",
       "Albania             0.0                                 0.0       0.0    0.0  \n",
       "Algeria             0.0                                 0.0       0.0    0.0  \n",
       "Angola              0.0                                 0.0       0.0    0.0  \n",
       "Argentina           0.0                                 0.0  195099.0    0.0  \n",
       "\n",
       "[5 rows x 134 columns]"
      ]
     },
     "execution_count": 6,
     "metadata": {},
     "output_type": "execute_result"
    }
   ],
   "source": [
    "Wheat.trade_matrix.head()\n"
   ]
  },
  {
   "cell_type": "code",
   "execution_count": 7,
   "metadata": {},
   "outputs": [
    {
     "data": {
      "text/plain": [
       "184186156.25"
      ]
     },
     "execution_count": 7,
     "metadata": {},
     "output_type": "execute_result"
    }
   ],
   "source": [
    "Wheat.trade_matrix.sum().sum()"
   ]
  },
  {
   "cell_type": "code",
   "execution_count": 8,
   "metadata": {},
   "outputs": [
    {
     "data": {
      "text/plain": [
       "(134, 134)"
      ]
     },
     "execution_count": 8,
     "metadata": {},
     "output_type": "execute_result"
    }
   ],
   "source": [
    "Wheat.trade_matrix.shape"
   ]
  },
  {
   "cell_type": "code",
   "execution_count": 9,
   "metadata": {},
   "outputs": [
    {
     "ename": "Exception",
     "evalue": "Dot product shape mismatch, (210,) vs (105, 105)",
     "output_type": "error",
     "traceback": [
      "\u001b[0;31m---------------------------------------------------------------------------\u001b[0m",
      "\u001b[0;31mException\u001b[0m                                 Traceback (most recent call last)",
      "\u001b[1;32m/home/florian/Documents/GitHub/pytradeshifts/scripts/testing.ipynb Cell 9\u001b[0m line \u001b[0;36m1\n\u001b[0;32m----> <a href='vscode-notebook-cell:/home/florian/Documents/GitHub/pytradeshifts/scripts/testing.ipynb#X14sZmlsZQ%3D%3D?line=0'>1</a>\u001b[0m Wheat\u001b[39m.\u001b[39mremove_re_exports()\n",
      "File \u001b[0;32m~/Documents/GitHub/pytradeshifts/src/model.py:144\u001b[0m, in \u001b[0;36mPyTradeShifts.remove_re_exports\u001b[0;34m(self)\u001b[0m\n\u001b[1;32m    142\u001b[0m trade_corrected \u001b[39m=\u001b[39m \u001b[39mself\u001b[39m\u001b[39m.\u001b[39mcorrect_for_reexports(trade_matrix, production_data)\n\u001b[1;32m    143\u001b[0m \u001b[39m# Estimate trade-related matrices\u001b[39;00m\n\u001b[0;32m--> 144\u001b[0m trade_matrix \u001b[39m=\u001b[39m \u001b[39mself\u001b[39m\u001b[39m.\u001b[39mestimate_trade_matrices(trade_corrected, production_data)\n\u001b[1;32m    146\u001b[0m \u001b[39m# Set the corrected trade matrix as the trade matrix\u001b[39;00m\n\u001b[1;32m    147\u001b[0m \u001b[39mself\u001b[39m\u001b[39m.\u001b[39mtrade_matrix \u001b[39m=\u001b[39m trade_matrix\n",
      "File \u001b[0;32m~/Documents/GitHub/pytradeshifts/src/model.py:232\u001b[0m, in \u001b[0;36mPyTradeShifts.estimate_trade_matrices\u001b[0;34m(self, trade_matrix, production_data)\u001b[0m\n\u001b[1;32m    226\u001b[0m trade_flows \u001b[39m=\u001b[39m np\u001b[39m.\u001b[39mlinalg\u001b[39m.\u001b[39minv(\n\u001b[1;32m    227\u001b[0m     np\u001b[39m.\u001b[39midentity(trade_relationships\u001b[39m.\u001b[39mshape[\u001b[39m0\u001b[39m]) \u001b[39m-\u001b[39m\n\u001b[1;32m    228\u001b[0m     trade_relationships\n\u001b[1;32m    229\u001b[0m ) \u001b[39m@\u001b[39m production_diag\n\u001b[1;32m    231\u001b[0m \u001b[39m# Calculate consumption shares\u001b[39;00m\n\u001b[0;32m--> 232\u001b[0m consumption_share \u001b[39m=\u001b[39m np\u001b[39m.\u001b[39mlinalg\u001b[39m.\u001b[39minv(\n\u001b[1;32m    233\u001b[0m     np\u001b[39m.\u001b[39mdiag(domestic_supply)\n\u001b[1;32m    234\u001b[0m ) \u001b[39m@\u001b[39m (domestic_supply \u001b[39m-\u001b[39m trade_matrix\u001b[39m.\u001b[39msum(axis\u001b[39m=\u001b[39m\u001b[39m1\u001b[39m))\n\u001b[1;32m    236\u001b[0m \u001b[39m# Calculate consumption from each country to country\u001b[39;00m\n\u001b[1;32m    237\u001b[0m trade_without_re_exports \u001b[39m=\u001b[39m np\u001b[39m.\u001b[39mdiag(consumption_share) \u001b[39m@\u001b[39m trade_flows\n",
      "File \u001b[0;32m~/local/anaconda3/envs/pytradeshifts/lib/python3.12/site-packages/pandas/core/generic.py:2102\u001b[0m, in \u001b[0;36mNDFrame.__array_ufunc__\u001b[0;34m(self, ufunc, method, *inputs, **kwargs)\u001b[0m\n\u001b[1;32m   2098\u001b[0m \u001b[39m@final\u001b[39m\n\u001b[1;32m   2099\u001b[0m \u001b[39mdef\u001b[39;00m \u001b[39m__array_ufunc__\u001b[39m(\n\u001b[1;32m   2100\u001b[0m     \u001b[39mself\u001b[39m, ufunc: np\u001b[39m.\u001b[39mufunc, method: \u001b[39mstr\u001b[39m, \u001b[39m*\u001b[39minputs: Any, \u001b[39m*\u001b[39m\u001b[39m*\u001b[39mkwargs: Any\n\u001b[1;32m   2101\u001b[0m ):\n\u001b[0;32m-> 2102\u001b[0m     \u001b[39mreturn\u001b[39;00m arraylike\u001b[39m.\u001b[39marray_ufunc(\u001b[39mself\u001b[39m, ufunc, method, \u001b[39m*\u001b[39minputs, \u001b[39m*\u001b[39m\u001b[39m*\u001b[39mkwargs)\n",
      "File \u001b[0;32m~/local/anaconda3/envs/pytradeshifts/lib/python3.12/site-packages/pandas/core/arraylike.py:273\u001b[0m, in \u001b[0;36marray_ufunc\u001b[0;34m(self, ufunc, method, *inputs, **kwargs)\u001b[0m\n\u001b[1;32m    270\u001b[0m kwargs \u001b[39m=\u001b[39m _standardize_out_kwarg(\u001b[39m*\u001b[39m\u001b[39m*\u001b[39mkwargs)\n\u001b[1;32m    272\u001b[0m \u001b[39m# for binary ops, use our custom dunder methods\u001b[39;00m\n\u001b[0;32m--> 273\u001b[0m result \u001b[39m=\u001b[39m maybe_dispatch_ufunc_to_dunder_op(\u001b[39mself\u001b[39m, ufunc, method, \u001b[39m*\u001b[39minputs, \u001b[39m*\u001b[39m\u001b[39m*\u001b[39mkwargs)\n\u001b[1;32m    274\u001b[0m \u001b[39mif\u001b[39;00m result \u001b[39mis\u001b[39;00m \u001b[39mnot\u001b[39;00m \u001b[39mNotImplemented\u001b[39m:\n\u001b[1;32m    275\u001b[0m     \u001b[39mreturn\u001b[39;00m result\n",
      "File \u001b[0;32mops_dispatch.pyx:113\u001b[0m, in \u001b[0;36mpandas._libs.ops_dispatch.maybe_dispatch_ufunc_to_dunder_op\u001b[0;34m()\u001b[0m\n",
      "File \u001b[0;32m~/local/anaconda3/envs/pytradeshifts/lib/python3.12/site-packages/pandas/core/series.py:3140\u001b[0m, in \u001b[0;36mSeries.__rmatmul__\u001b[0;34m(self, other)\u001b[0m\n\u001b[1;32m   3136\u001b[0m \u001b[39mdef\u001b[39;00m \u001b[39m__rmatmul__\u001b[39m(\u001b[39mself\u001b[39m, other):\n\u001b[1;32m   3137\u001b[0m     \u001b[39m\"\"\"\u001b[39;00m\n\u001b[1;32m   3138\u001b[0m \u001b[39m    Matrix multiplication using binary `@` operator.\u001b[39;00m\n\u001b[1;32m   3139\u001b[0m \u001b[39m    \"\"\"\u001b[39;00m\n\u001b[0;32m-> 3140\u001b[0m     \u001b[39mreturn\u001b[39;00m \u001b[39mself\u001b[39m\u001b[39m.\u001b[39mdot(np\u001b[39m.\u001b[39mtranspose(other))\n",
      "File \u001b[0;32m~/local/anaconda3/envs/pytradeshifts/lib/python3.12/site-packages/pandas/core/series.py:3115\u001b[0m, in \u001b[0;36mSeries.dot\u001b[0;34m(self, other)\u001b[0m\n\u001b[1;32m   3113\u001b[0m     rvals \u001b[39m=\u001b[39m np\u001b[39m.\u001b[39masarray(other)\n\u001b[1;32m   3114\u001b[0m     \u001b[39mif\u001b[39;00m lvals\u001b[39m.\u001b[39mshape[\u001b[39m0\u001b[39m] \u001b[39m!=\u001b[39m rvals\u001b[39m.\u001b[39mshape[\u001b[39m0\u001b[39m]:\n\u001b[0;32m-> 3115\u001b[0m         \u001b[39mraise\u001b[39;00m \u001b[39mException\u001b[39;00m(\n\u001b[1;32m   3116\u001b[0m             \u001b[39mf\u001b[39m\u001b[39m\"\u001b[39m\u001b[39mDot product shape mismatch, \u001b[39m\u001b[39m{\u001b[39;00mlvals\u001b[39m.\u001b[39mshape\u001b[39m}\u001b[39;00m\u001b[39m vs \u001b[39m\u001b[39m{\u001b[39;00mrvals\u001b[39m.\u001b[39mshape\u001b[39m}\u001b[39;00m\u001b[39m\"\u001b[39m\n\u001b[1;32m   3117\u001b[0m         )\n\u001b[1;32m   3119\u001b[0m \u001b[39mif\u001b[39;00m \u001b[39misinstance\u001b[39m(other, ABCDataFrame):\n\u001b[1;32m   3120\u001b[0m     \u001b[39mreturn\u001b[39;00m \u001b[39mself\u001b[39m\u001b[39m.\u001b[39m_constructor(\n\u001b[1;32m   3121\u001b[0m         np\u001b[39m.\u001b[39mdot(lvals, rvals), index\u001b[39m=\u001b[39mother\u001b[39m.\u001b[39mcolumns, copy\u001b[39m=\u001b[39m\u001b[39mFalse\u001b[39;00m\n\u001b[1;32m   3122\u001b[0m     )\u001b[39m.\u001b[39m__finalize__(\u001b[39mself\u001b[39m, method\u001b[39m=\u001b[39m\u001b[39m\"\u001b[39m\u001b[39mdot\u001b[39m\u001b[39m\"\u001b[39m)\n",
      "\u001b[0;31mException\u001b[0m: Dot product shape mismatch, (210,) vs (105, 105)"
     ]
    }
   ],
   "source": [
    "Wheat.remove_re_exports()"
   ]
  },
  {
   "cell_type": "code",
   "execution_count": null,
   "metadata": {},
   "outputs": [
    {
     "data": {
      "text/plain": [
       "'Australia'"
      ]
     },
     "execution_count": 28,
     "metadata": {},
     "output_type": "execute_result"
    }
   ],
   "source": [
    "Wheat.production_data.index[6]\n"
   ]
  },
  {
   "cell_type": "code",
   "execution_count": null,
   "metadata": {},
   "outputs": [
    {
     "data": {
      "text/plain": [
       "0.0"
      ]
     },
     "execution_count": 31,
     "metadata": {},
     "output_type": "execute_result"
    }
   ],
   "source": [
    "Wheat.trade_matrix.loc[Wheat.production_data.index[6],Wheat.production_data.index[5]]"
   ]
  }
 ],
 "metadata": {
  "kernelspec": {
   "display_name": "pytradeshifts",
   "language": "python",
   "name": "python3"
  },
  "language_info": {
   "codemirror_mode": {
    "name": "ipython",
    "version": 3
   },
   "file_extension": ".py",
   "mimetype": "text/x-python",
   "name": "python",
   "nbconvert_exporter": "python",
   "pygments_lexer": "ipython3",
   "version": "3.12.0"
  }
 },
 "nbformat": 4,
 "nbformat_minor": 2
}
