{
 "cells": [
  {
   "cell_type": "code",
   "execution_count": 1,
   "metadata": {},
   "outputs": [],
   "source": [
    "from src.model import PyTradeShifts\n",
    "import pandas as pd\n",
    "import os\n",
    "import numpy as np\n",
    "import matplotlib.pyplot as plt\n",
    "import networkx as nx\n",
    "import seaborn as sns   \n",
    "import country_converter as coco"
   ]
  },
  {
   "cell_type": "code",
   "execution_count": 2,
   "metadata": {},
   "outputs": [
    {
     "name": "stdout",
     "output_type": "stream",
     "text": [
      "/home/florian/Documents/GitHub/pytradeshifts/scripts\n",
      "/home/florian/Documents/GitHub/pytradeshifts\n"
     ]
    }
   ],
   "source": [
    "print(os.getcwd())\n",
    "# Go up one directory to get to the data folder\n",
    "data_dir = os.path.join(os.path.dirname(os.getcwd()))\n",
    "os.chdir(data_dir)\n",
    "print(os.getcwd())"
   ]
  },
  {
   "cell_type": "code",
   "execution_count": 3,
   "metadata": {},
   "outputs": [],
   "source": [
    "ISIMIP = pd.read_csv(\".\" + \"/data/scenario_files/ISIMIP_wheat_Hedlung.csv\", index_col=0)"
   ]
  },
  {
   "cell_type": "code",
   "execution_count": 4,
   "metadata": {},
   "outputs": [
    {
     "data": {
      "text/html": [
       "<div>\n",
       "<style scoped>\n",
       "    .dataframe tbody tr th:only-of-type {\n",
       "        vertical-align: middle;\n",
       "    }\n",
       "\n",
       "    .dataframe tbody tr th {\n",
       "        vertical-align: top;\n",
       "    }\n",
       "\n",
       "    .dataframe thead th {\n",
       "        text-align: right;\n",
       "    }\n",
       "</style>\n",
       "<table border=\"1\" class=\"dataframe\">\n",
       "  <thead>\n",
       "    <tr style=\"text-align: right;\">\n",
       "      <th></th>\n",
       "      <th>yield_change</th>\n",
       "    </tr>\n",
       "    <tr>\n",
       "      <th>name</th>\n",
       "      <th></th>\n",
       "    </tr>\n",
       "  </thead>\n",
       "  <tbody>\n",
       "    <tr>\n",
       "      <th>Indonesia</th>\n",
       "      <td>NaN</td>\n",
       "    </tr>\n",
       "    <tr>\n",
       "      <th>Malaysia</th>\n",
       "      <td>NaN</td>\n",
       "    </tr>\n",
       "    <tr>\n",
       "      <th>Chile</th>\n",
       "      <td>32.358411</td>\n",
       "    </tr>\n",
       "    <tr>\n",
       "      <th>Bolivia</th>\n",
       "      <td>2.438740</td>\n",
       "    </tr>\n",
       "    <tr>\n",
       "      <th>Peru</th>\n",
       "      <td>54.821289</td>\n",
       "    </tr>\n",
       "  </tbody>\n",
       "</table>\n",
       "</div>"
      ],
      "text/plain": [
       "           yield_change\n",
       "name                   \n",
       "Indonesia           NaN\n",
       "Malaysia            NaN\n",
       "Chile         32.358411\n",
       "Bolivia        2.438740\n",
       "Peru          54.821289"
      ]
     },
     "execution_count": 4,
     "metadata": {},
     "output_type": "execute_result"
    }
   ],
   "source": [
    "ISIMIP.head()\n"
   ]
  },
  {
   "cell_type": "code",
   "execution_count": 5,
   "metadata": {},
   "outputs": [
    {
     "data": {
      "text/plain": [
       "Index(['yield_change'], dtype='object')"
      ]
     },
     "execution_count": 5,
     "metadata": {},
     "output_type": "execute_result"
    }
   ],
   "source": [
    "ISIMIP.columns"
   ]
  },
  {
   "cell_type": "code",
   "execution_count": 6,
   "metadata": {},
   "outputs": [],
   "source": [
    "nan_indices = ISIMIP.index[ISIMIP.iloc[:, 0].isnull()].tolist()"
   ]
  },
  {
   "cell_type": "code",
   "execution_count": 7,
   "metadata": {},
   "outputs": [
    {
     "data": {
      "text/plain": [
       "['Indonesia',\n",
       " 'Malaysia',\n",
       " 'Suriname',\n",
       " 'Guyana',\n",
       " 'Costa Rica',\n",
       " 'Nicaragua',\n",
       " 'Congo, Rep. of',\n",
       " 'Congo, Democratic Republic of',\n",
       " 'Namibia',\n",
       " 'Saint-Martin (Fr.)',\n",
       " 'Sint Maarten (Neth.)',\n",
       " 'Cambodia',\n",
       " 'United Arab Emirates',\n",
       " 'Sierra Leone',\n",
       " 'Guinea',\n",
       " 'Liberia',\n",
       " 'Central African Republic',\n",
       " 'Djibouti',\n",
       " \"Côte d'Ivoire\",\n",
       " 'Senegal',\n",
       " 'Benin',\n",
       " 'Angola',\n",
       " 'Qatar',\n",
       " 'Haiti',\n",
       " 'Dominican Republic',\n",
       " 'Chad',\n",
       " 'El Salvador',\n",
       " 'Timor-Leste',\n",
       " 'Brunei Darussalam',\n",
       " 'Mozambique',\n",
       " 'eSwatini',\n",
       " 'Guantanamo Bay (US)',\n",
       " 'Cuba',\n",
       " 'Honduras',\n",
       " 'Cameroon',\n",
       " 'Gabon',\n",
       " 'Burkina Faso',\n",
       " 'Togo',\n",
       " 'Ghana',\n",
       " 'Guinea-Bissau',\n",
       " 'Gibraltar (UK)',\n",
       " 'Belize',\n",
       " 'Panama',\n",
       " 'Venezuela, Republica Bolivariana de',\n",
       " 'Papua New Guinea',\n",
       " 'Mauritania',\n",
       " 'Equatorial Guinea',\n",
       " 'Gambia, The',\n",
       " 'Hong Kong (SAR, China)',\n",
       " 'Greenland (Den.)',\n",
       " 'Fiji',\n",
       " 'New Caledonia (Fr.)',\n",
       " 'Madagascar',\n",
       " 'Philippines',\n",
       " 'Sri Lanka',\n",
       " 'Curaçao (Neth.)',\n",
       " 'Aruba (Neth.)',\n",
       " 'Bahamas, The',\n",
       " 'Turks and Caicos Islands (UK)',\n",
       " 'Saint-Pierre-et-Miquelon (Fr.)',\n",
       " 'Iceland',\n",
       " 'Pitcairn Islands (UK)',\n",
       " 'French Polynesia (Fr.)',\n",
       " 'French Southern and Antarctic Lands (Fr.)',\n",
       " 'Seychelles',\n",
       " 'Kiribati',\n",
       " 'Marshall Islands',\n",
       " 'Trinidad and Tobago',\n",
       " 'Grenada',\n",
       " 'Saint Vincent and the Grenadines',\n",
       " 'Barbados',\n",
       " 'Saint Lucia',\n",
       " 'Dominica',\n",
       " 'Montserrat (UK)',\n",
       " 'Antigua and Barbuda',\n",
       " 'Saint Kitts and Nevis',\n",
       " 'U.S. Virgin Islands (US)',\n",
       " 'Saint-Barthélemy (Fr.)',\n",
       " 'Puerto Rico (US)',\n",
       " 'Anguilla (UK)',\n",
       " 'British Virgin Islands (UK)',\n",
       " 'Jamaica',\n",
       " 'Cayman Islands (UK)',\n",
       " 'Bermuda (UK)',\n",
       " 'Heard Island and McDonald Islands (Aus.)',\n",
       " 'Saint Helena, Ascension and Tristan da Cunha (UK)',\n",
       " 'Mauritius',\n",
       " 'Comoros',\n",
       " 'São Tomé and Príncipe',\n",
       " 'Cabo Verde',\n",
       " 'Malta',\n",
       " 'Jersey (UK)',\n",
       " 'Guernsey (UK)',\n",
       " 'Isle of Man (UK)',\n",
       " 'Faroe Islands (Den.)',\n",
       " 'British Indian Ocean Territory (UK)',\n",
       " 'Singapore',\n",
       " 'Norfolk Island (Aus.)',\n",
       " 'Cook Islands (NZ)',\n",
       " 'Tonga',\n",
       " 'Wallis-et-Futuna (Fr.)',\n",
       " 'Samoa',\n",
       " 'Solomon Islands',\n",
       " 'Tuvalu',\n",
       " 'Maldives',\n",
       " 'Nauru',\n",
       " 'Micronesia, Federated States of',\n",
       " 'South Georgia and South Sandwich Islands (UK)',\n",
       " 'Falkland Islands (UK)/Islas Malvinas',\n",
       " 'Vanuatu',\n",
       " 'Niue (NZ)',\n",
       " 'American Samoa (US)',\n",
       " 'Palau',\n",
       " 'Guam (US)',\n",
       " 'Northern Mariana Islands (US)',\n",
       " 'Bahrain',\n",
       " 'Clipperton Island (Fr.)',\n",
       " 'Macau (SAR, China)',\n",
       " 'Bonaire (Neth.)',\n",
       " 'Sint Eustatius (Neth.)',\n",
       " 'Saba (Neth.)',\n",
       " 'Cocos (Keeling) Islands (Aus.)',\n",
       " 'Christmas Island (Aus.)',\n",
       " 'Johnston Atoll (US)',\n",
       " 'Jarvis Island (US)',\n",
       " 'Baker Island (US)',\n",
       " 'Howland Island (US)',\n",
       " 'Wake Island (US)',\n",
       " 'Midway Islands (US)',\n",
       " 'Navassa Island (US)',\n",
       " 'Palmyra Atoll (US)',\n",
       " 'Kingman Reef (US)',\n",
       " 'Tokelau (NZ)']"
      ]
     },
     "execution_count": 7,
     "metadata": {},
     "output_type": "execute_result"
    }
   ],
   "source": [
    "nan_indices"
   ]
  },
  {
   "cell_type": "code",
   "execution_count": 8,
   "metadata": {},
   "outputs": [
    {
     "data": {
      "text/plain": [
       "list"
      ]
     },
     "execution_count": 8,
     "metadata": {},
     "output_type": "execute_result"
    }
   ],
   "source": [
    "type(nan_indices)"
   ]
  },
  {
   "cell_type": "code",
   "execution_count": 9,
   "metadata": {},
   "outputs": [],
   "source": [
    "Wheat2018 = PyTradeShifts(\"Wheat\", 2018, region=\"Global\", testing=True, countries_to_remove=nan_indices)"
   ]
  },
  {
   "cell_type": "code",
   "execution_count": null,
   "metadata": {},
   "outputs": [],
   "source": []
  },
  {
   "cell_type": "code",
   "execution_count": 10,
   "metadata": {},
   "outputs": [
    {
     "name": "stdout",
     "output_type": "stream",
     "text": [
      "Loaded data for Wheat in Y2018.\n"
     ]
    }
   ],
   "source": [
    "Wheat2018.load_data()"
   ]
  },
  {
   "cell_type": "code",
   "execution_count": 11,
   "metadata": {},
   "outputs": [],
   "source": [
    "Wheat2018.remove_countries()"
   ]
  },
  {
   "cell_type": "code",
   "execution_count": 12,
   "metadata": {},
   "outputs": [],
   "source": [
    "Wheat2018.remove_net_zero_countries()"
   ]
  },
  {
   "cell_type": "code",
   "execution_count": 13,
   "metadata": {},
   "outputs": [],
   "source": [
    "Wheat2018.prebalance()"
   ]
  },
  {
   "cell_type": "code",
   "execution_count": 14,
   "metadata": {},
   "outputs": [],
   "source": [
    "Wheat2018.correct_reexports()"
   ]
  },
  {
   "cell_type": "code",
   "execution_count": 15,
   "metadata": {},
   "outputs": [
    {
     "name": "stdout",
     "output_type": "stream",
     "text": [
      "Removed countries with trade below the 75th percentile.\n"
     ]
    }
   ],
   "source": [
    "Wheat2018.remove_below_percentile()"
   ]
  },
  {
   "cell_type": "code",
   "execution_count": 16,
   "metadata": {},
   "outputs": [],
   "source": [
    "Wheat2018.build_graph()"
   ]
  },
  {
   "cell_type": "code",
   "execution_count": 17,
   "metadata": {},
   "outputs": [
    {
     "name": "stdout",
     "output_type": "stream",
     "text": [
      "Removed community {'Bhutan'} with only one country.\n",
      "Removed community {'Niger'} with only one country.\n"
     ]
    }
   ],
   "source": [
    "Wheat2018.find_trade_communities()"
   ]
  },
  {
   "cell_type": "code",
   "execution_count": 18,
   "metadata": {},
   "outputs": [
    {
     "data": {
      "image/png": "[encoded data removed]",
      "text/plain": [
       "<Figure size 720x432 with 1 Axes>"
      ]
     },
     "metadata": {},
     "output_type": "display_data"
    }
   ],
   "source": [
    "Wheat2018.plot_trade_communities()"
   ]
  }
 ],
 "metadata": {
  "kernelspec": {
   "display_name": "pytradeshifts",
   "language": "python",
   "name": "python3"
  },
  "language_info": {
   "codemirror_mode": {
    "name": "ipython",
    "version": 3
   },
   "file_extension": ".py",
   "mimetype": "text/x-python",
   "name": "python",
   "nbconvert_exporter": "python",
   "pygments_lexer": "ipython3",
   "version": "3.12.0"
  }
 },
 "nbformat": 4,
 "nbformat_minor": 2
}
