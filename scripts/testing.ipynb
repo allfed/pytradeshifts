{
 "cells": [
  {
   "cell_type": "code",
   "execution_count": 1,
   "metadata": {},
   "outputs": [],
   "source": [
    "from src.model import PyTradeShifts\n",
    "import pandas as pd\n",
    "import os\n",
    "import numpy as np\n",
    "import matplotlib.pyplot as plt\n",
    "import networkx as nx\n"
   ]
  },
  {
   "cell_type": "code",
   "execution_count": 2,
   "metadata": {},
   "outputs": [
    {
     "name": "stdout",
     "output_type": "stream",
     "text": [
      "/home/florian/Documents/GitHub/pytradeshifts/scripts\n",
      "/home/florian/Documents/GitHub/pytradeshifts\n"
     ]
    }
   ],
   "source": [
    "print(os.getcwd())\n",
    "# Go up one directory to get to the data folder\n",
    "data_dir = os.path.join(os.path.dirname(os.getcwd()))\n",
    "os.chdir(data_dir)\n",
    "print(os.getcwd())"
   ]
  },
  {
   "cell_type": "code",
   "execution_count": 3,
   "metadata": {},
   "outputs": [],
   "source": [
    "Wheat2018 = PyTradeShifts(\"Wheat\", \"Y2018\", region=\"Global\", testing=True)"
   ]
  },
  {
   "cell_type": "code",
   "execution_count": 4,
   "metadata": {},
   "outputs": [
    {
     "name": "stdout",
     "output_type": "stream",
     "text": [
      "Loaded data for Wheat in Y2018.\n"
     ]
    }
   ],
   "source": [
    "Wheat2018.load_data()"
   ]
  },
  {
   "cell_type": "code",
   "execution_count": 5,
   "metadata": {},
   "outputs": [],
   "source": [
    "Wheat2018.remove_net_zero_countries()"
   ]
  },
  {
   "cell_type": "code",
   "execution_count": 6,
   "metadata": {},
   "outputs": [],
   "source": [
    "Wheat2018.prebalance()"
   ]
  },
  {
   "cell_type": "code",
   "execution_count": 7,
   "metadata": {},
   "outputs": [],
   "source": [
    "Wheat2018.correct_reexports()"
   ]
  },
  {
   "cell_type": "code",
   "execution_count": 8,
   "metadata": {},
   "outputs": [
    {
     "name": "stdout",
     "output_type": "stream",
     "text": [
      "Removed countries with trade below the 75th percentile.\n"
     ]
    }
   ],
   "source": [
    "Wheat2018.remove_below_percentile()"
   ]
  },
  {
   "cell_type": "code",
   "execution_count": 9,
   "metadata": {},
   "outputs": [],
   "source": [
    "Wheat2018.build_graph()"
   ]
  },
  {
   "cell_type": "code",
   "execution_count": 10,
   "metadata": {},
   "outputs": [],
   "source": [
    "Wheat2018.find_trade_communities()"
   ]
  },
  {
   "cell_type": "code",
   "execution_count": 21,
   "metadata": {},
   "outputs": [
    {
     "data": {
      "text/plain": [
       "{'Australia',\n",
       " 'Bahrain',\n",
       " 'Djibouti',\n",
       " 'Fiji',\n",
       " 'French Polynesia',\n",
       " 'Gambia',\n",
       " 'Indonesia',\n",
       " 'Kuwait',\n",
       " 'Libya',\n",
       " 'Malaysia',\n",
       " 'Mauritania',\n",
       " 'Morocco',\n",
       " 'Myanmar',\n",
       " 'New Caledonia',\n",
       " 'New Zealand',\n",
       " 'Pakistan',\n",
       " 'Papua New Guinea',\n",
       " 'Philippines',\n",
       " 'Republic of Korea',\n",
       " 'Singapore',\n",
       " 'Solomon Islands',\n",
       " 'Thailand',\n",
       " 'Tunisia',\n",
       " 'Ukraine'}"
      ]
     },
     "execution_count": 21,
     "metadata": {},
     "output_type": "execute_result"
    }
   ],
   "source": [
    "Wheat2018.trade_communities[7]"
   ]
  }
 ],
 "metadata": {
  "kernelspec": {
   "display_name": "pytradeshifts",
   "language": "python",
   "name": "python3"
  },
  "language_info": {
   "codemirror_mode": {
    "name": "ipython",
    "version": 3
   },
   "file_extension": ".py",
   "mimetype": "text/x-python",
   "name": "python",
   "nbconvert_exporter": "python",
   "pygments_lexer": "ipython3",
   "version": "3.12.0"
  }
 },
 "nbformat": 4,
 "nbformat_minor": 2
}
